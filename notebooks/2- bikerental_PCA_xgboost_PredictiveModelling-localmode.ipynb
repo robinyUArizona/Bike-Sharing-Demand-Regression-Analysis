{
 "cells": [
  {
   "cell_type": "markdown",
   "metadata": {
    "colab_type": "text",
    "id": "CjxpKyrS-ASM"
   },
   "source": [
    "Input Features: `['season', 'holiday', 'workingday', 'weather', 'year', 'month', 'day', 'dayofweek','hour', 'pca components']` \n",
    "\n",
    "Target Feature: `[log1p('count')]`\n",
    "\n",
    "PCA Training: `['temp','atemp','humidity','windspeed']`\n"
   ]
  },
  {
   "cell_type": "code",
   "execution_count": 0,
   "metadata": {
    "colab": {},
    "colab_type": "code",
    "id": "ZlxgHQEy-q_n"
   },
   "outputs": [],
   "source": [
    "import numpy as np\n",
    "import pandas as pd\n",
    "import matplotlib.pyplot as plt\n",
    "%matplotlib inline\n",
    "\n",
    "from sklearn.decomposition import PCA"
   ]
  },
  {
   "cell_type": "code",
   "execution_count": 1,
   "metadata": {
    "colab": {
     "base_uri": "https://localhost:8080/",
     "height": 108,
     "resources": {
      "http://localhost:8080/nbextensions/google.colab/files.js": {
       "data": "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",
       "headers": [
        [
         "content-type",
         "application/javascript"
        ]
       ],
       "ok": true,
       "status": 200,
       "status_text": ""
      }
     }
    },
    "colab_type": "code",
    "executionInfo": {
     "elapsed": 34811,
     "status": "ok",
     "timestamp": 1591150773783,
     "user": {
      "displayName": "Robins Yadav",
      "photoUrl": "",
      "userId": "09341548175987336254"
     },
     "user_tz": 420
    },
    "id": "uJs90gJ49fnS",
    "outputId": "d2d4cade-b333-4b7a-b176-ece95e0f63fb"
   },
   "outputs": [
    {
     "data": {
      "text/html": [
       "\n",
       "     <input type=\"file\" id=\"files-fffcc290-b53e-4af2-971d-2b93c0752a0b\" name=\"files[]\" multiple disabled />\n",
       "     <output id=\"result-fffcc290-b53e-4af2-971d-2b93c0752a0b\">\n",
       "      Upload widget is only available when the cell has been executed in the\n",
       "      current browser session. Please rerun this cell to enable.\n",
       "      </output>\n",
       "      <script src=\"/nbextensions/google.colab/files.js\"></script> "
      ],
      "text/plain": [
       "<IPython.core.display.HTML object>"
      ]
     },
     "metadata": {
      "tags": []
     },
     "output_type": "display_data"
    },
    {
     "name": "stdout",
     "output_type": "stream",
     "text": [
      "Saving rob-test_normalized.csv to rob-test_normalized.csv\n",
      "Saving rob-train_normalized.csv to rob-train_normalized.csv\n"
     ]
    }
   ],
   "source": [
    "## load the data\n",
    "from google.colab import files\n",
    "uploaded = files.upload()"
   ]
  },
  {
   "cell_type": "code",
   "execution_count": 60,
   "metadata": {
    "colab": {
     "base_uri": "https://localhost:8080/",
     "height": 411
    },
    "colab_type": "code",
    "executionInfo": {
     "elapsed": 1365,
     "status": "ok",
     "timestamp": 1591154249560,
     "user": {
      "displayName": "Robins Yadav",
      "photoUrl": "",
      "userId": "09341548175987336254"
     },
     "user_tz": 420
    },
    "id": "WKfXb-dD-WSB",
    "outputId": "6264a0ad-5efb-4fa6-8c14-5fc8d4ebc54e"
   },
   "outputs": [
    {
     "data": {
      "text/html": [
       "<div>\n",
       "<style scoped>\n",
       "    .dataframe tbody tr th:only-of-type {\n",
       "        vertical-align: middle;\n",
       "    }\n",
       "\n",
       "    .dataframe tbody tr th {\n",
       "        vertical-align: top;\n",
       "    }\n",
       "\n",
       "    .dataframe thead th {\n",
       "        text-align: right;\n",
       "    }\n",
       "</style>\n",
       "<table border=\"1\" class=\"dataframe\">\n",
       "  <thead>\n",
       "    <tr style=\"text-align: right;\">\n",
       "      <th></th>\n",
       "      <th>count</th>\n",
       "      <th>season</th>\n",
       "      <th>holiday</th>\n",
       "      <th>workingday</th>\n",
       "      <th>weather</th>\n",
       "      <th>temp</th>\n",
       "      <th>atemp</th>\n",
       "      <th>humidity</th>\n",
       "      <th>windspeed</th>\n",
       "      <th>year</th>\n",
       "      <th>month</th>\n",
       "      <th>day</th>\n",
       "      <th>dayofweek</th>\n",
       "      <th>hour</th>\n",
       "    </tr>\n",
       "  </thead>\n",
       "  <tbody>\n",
       "    <tr>\n",
       "      <th>0</th>\n",
       "      <td>2.833213</td>\n",
       "      <td>1</td>\n",
       "      <td>0</td>\n",
       "      <td>0</td>\n",
       "      <td>1</td>\n",
       "      <td>-1.333661</td>\n",
       "      <td>-1.092737</td>\n",
       "      <td>0.993213</td>\n",
       "      <td>-1.567754</td>\n",
       "      <td>2011</td>\n",
       "      <td>1</td>\n",
       "      <td>1</td>\n",
       "      <td>5</td>\n",
       "      <td>0</td>\n",
       "    </tr>\n",
       "    <tr>\n",
       "      <th>1</th>\n",
       "      <td>3.713572</td>\n",
       "      <td>1</td>\n",
       "      <td>0</td>\n",
       "      <td>0</td>\n",
       "      <td>1</td>\n",
       "      <td>-1.438907</td>\n",
       "      <td>-1.182421</td>\n",
       "      <td>0.941249</td>\n",
       "      <td>-1.567754</td>\n",
       "      <td>2011</td>\n",
       "      <td>1</td>\n",
       "      <td>1</td>\n",
       "      <td>5</td>\n",
       "      <td>1</td>\n",
       "    </tr>\n",
       "    <tr>\n",
       "      <th>2</th>\n",
       "      <td>3.496508</td>\n",
       "      <td>1</td>\n",
       "      <td>0</td>\n",
       "      <td>0</td>\n",
       "      <td>1</td>\n",
       "      <td>-1.438907</td>\n",
       "      <td>-1.182421</td>\n",
       "      <td>0.941249</td>\n",
       "      <td>-1.567754</td>\n",
       "      <td>2011</td>\n",
       "      <td>1</td>\n",
       "      <td>1</td>\n",
       "      <td>5</td>\n",
       "      <td>2</td>\n",
       "    </tr>\n",
       "    <tr>\n",
       "      <th>3</th>\n",
       "      <td>2.639057</td>\n",
       "      <td>1</td>\n",
       "      <td>0</td>\n",
       "      <td>0</td>\n",
       "      <td>1</td>\n",
       "      <td>-1.333661</td>\n",
       "      <td>-1.092737</td>\n",
       "      <td>0.681430</td>\n",
       "      <td>-1.567754</td>\n",
       "      <td>2011</td>\n",
       "      <td>1</td>\n",
       "      <td>1</td>\n",
       "      <td>5</td>\n",
       "      <td>3</td>\n",
       "    </tr>\n",
       "    <tr>\n",
       "      <th>4</th>\n",
       "      <td>0.693147</td>\n",
       "      <td>1</td>\n",
       "      <td>0</td>\n",
       "      <td>0</td>\n",
       "      <td>1</td>\n",
       "      <td>-1.333661</td>\n",
       "      <td>-1.092737</td>\n",
       "      <td>0.681430</td>\n",
       "      <td>-1.567754</td>\n",
       "      <td>2011</td>\n",
       "      <td>1</td>\n",
       "      <td>1</td>\n",
       "      <td>5</td>\n",
       "      <td>4</td>\n",
       "    </tr>\n",
       "  </tbody>\n",
       "</table>\n",
       "</div>"
      ],
      "text/plain": [
       "      count  season  holiday  workingday  ...  month  day  dayofweek  hour\n",
       "0  2.833213       1        0           0  ...      1    1          5     0\n",
       "1  3.713572       1        0           0  ...      1    1          5     1\n",
       "2  3.496508       1        0           0  ...      1    1          5     2\n",
       "3  2.639057       1        0           0  ...      1    1          5     3\n",
       "4  0.693147       1        0           0  ...      1    1          5     4\n",
       "\n",
       "[5 rows x 14 columns]"
      ]
     },
     "metadata": {
      "tags": []
     },
     "output_type": "display_data"
    },
    {
     "data": {
      "text/html": [
       "<div>\n",
       "<style scoped>\n",
       "    .dataframe tbody tr th:only-of-type {\n",
       "        vertical-align: middle;\n",
       "    }\n",
       "\n",
       "    .dataframe tbody tr th {\n",
       "        vertical-align: top;\n",
       "    }\n",
       "\n",
       "    .dataframe thead th {\n",
       "        text-align: right;\n",
       "    }\n",
       "</style>\n",
       "<table border=\"1\" class=\"dataframe\">\n",
       "  <thead>\n",
       "    <tr style=\"text-align: right;\">\n",
       "      <th></th>\n",
       "      <th>season</th>\n",
       "      <th>holiday</th>\n",
       "      <th>workingday</th>\n",
       "      <th>weather</th>\n",
       "      <th>temp</th>\n",
       "      <th>atemp</th>\n",
       "      <th>humidity</th>\n",
       "      <th>windspeed</th>\n",
       "      <th>year</th>\n",
       "      <th>month</th>\n",
       "      <th>day</th>\n",
       "      <th>dayofweek</th>\n",
       "      <th>hour</th>\n",
       "    </tr>\n",
       "  </thead>\n",
       "  <tbody>\n",
       "    <tr>\n",
       "      <th>0</th>\n",
       "      <td>1</td>\n",
       "      <td>0</td>\n",
       "      <td>1</td>\n",
       "      <td>1</td>\n",
       "      <td>-1.228414</td>\n",
       "      <td>-1.450292</td>\n",
       "      <td>-0.305883</td>\n",
       "      <td>1.617227</td>\n",
       "      <td>2011</td>\n",
       "      <td>1</td>\n",
       "      <td>20</td>\n",
       "      <td>3</td>\n",
       "      <td>0</td>\n",
       "    </tr>\n",
       "    <tr>\n",
       "      <th>1</th>\n",
       "      <td>1</td>\n",
       "      <td>0</td>\n",
       "      <td>1</td>\n",
       "      <td>1</td>\n",
       "      <td>-1.228414</td>\n",
       "      <td>-1.182421</td>\n",
       "      <td>-0.305883</td>\n",
       "      <td>-1.567754</td>\n",
       "      <td>2011</td>\n",
       "      <td>1</td>\n",
       "      <td>20</td>\n",
       "      <td>3</td>\n",
       "      <td>1</td>\n",
       "    </tr>\n",
       "    <tr>\n",
       "      <th>2</th>\n",
       "      <td>1</td>\n",
       "      <td>0</td>\n",
       "      <td>1</td>\n",
       "      <td>1</td>\n",
       "      <td>-1.228414</td>\n",
       "      <td>-1.182421</td>\n",
       "      <td>-0.305883</td>\n",
       "      <td>-1.567754</td>\n",
       "      <td>2011</td>\n",
       "      <td>1</td>\n",
       "      <td>20</td>\n",
       "      <td>3</td>\n",
       "      <td>2</td>\n",
       "    </tr>\n",
       "    <tr>\n",
       "      <th>3</th>\n",
       "      <td>1</td>\n",
       "      <td>0</td>\n",
       "      <td>1</td>\n",
       "      <td>1</td>\n",
       "      <td>-1.228414</td>\n",
       "      <td>-1.271515</td>\n",
       "      <td>-0.305883</td>\n",
       "      <td>-0.220230</td>\n",
       "      <td>2011</td>\n",
       "      <td>1</td>\n",
       "      <td>20</td>\n",
       "      <td>3</td>\n",
       "      <td>3</td>\n",
       "    </tr>\n",
       "    <tr>\n",
       "      <th>4</th>\n",
       "      <td>1</td>\n",
       "      <td>0</td>\n",
       "      <td>1</td>\n",
       "      <td>1</td>\n",
       "      <td>-1.228414</td>\n",
       "      <td>-1.271515</td>\n",
       "      <td>-0.305883</td>\n",
       "      <td>-0.220230</td>\n",
       "      <td>2011</td>\n",
       "      <td>1</td>\n",
       "      <td>20</td>\n",
       "      <td>3</td>\n",
       "      <td>4</td>\n",
       "    </tr>\n",
       "  </tbody>\n",
       "</table>\n",
       "</div>"
      ],
      "text/plain": [
       "   season  holiday  workingday  weather  ...  month  day  dayofweek  hour\n",
       "0       1        0           1        1  ...      1   20          3     0\n",
       "1       1        0           1        1  ...      1   20          3     1\n",
       "2       1        0           1        1  ...      1   20          3     2\n",
       "3       1        0           1        1  ...      1   20          3     3\n",
       "4       1        0           1        1  ...      1   20          3     4\n",
       "\n",
       "[5 rows x 13 columns]"
      ]
     },
     "metadata": {
      "tags": []
     },
     "output_type": "display_data"
    }
   ],
   "source": [
    "## read the data sets\n",
    "df_train = pd.read_csv(\"rob-train_normalized.csv\") \n",
    "display(df_train.head())\n",
    "\n",
    "df_test = pd.read_csv(\"rob-test_normalized.csv\")\n",
    "display(df_test.head())"
   ]
  },
  {
   "cell_type": "code",
   "execution_count": 0,
   "metadata": {
    "colab": {},
    "colab_type": "code",
    "id": "yz5EUwiU-nhK"
   },
   "outputs": [],
   "source": [
    "## Find PCA to capture 90% total varition\n",
    "pca = PCA(n_components=0.9) "
   ]
  },
  {
   "cell_type": "markdown",
   "metadata": {
    "colab_type": "text",
    "id": "rDPxPilV_9AI"
   },
   "source": [
    "## Find new Features from `['temp','atemp','humidity','windspeed']`"
   ]
  },
  {
   "cell_type": "code",
   "execution_count": 62,
   "metadata": {
    "colab": {
     "base_uri": "https://localhost:8080/",
     "height": 51
    },
    "colab_type": "code",
    "executionInfo": {
     "elapsed": 2085,
     "status": "ok",
     "timestamp": 1591154250317,
     "user": {
      "displayName": "Robins Yadav",
      "photoUrl": "",
      "userId": "09341548175987336254"
     },
     "user_tz": 420
    },
    "id": "XoydP4Df_uo5",
    "outputId": "45c15bca-5be3-4330-e4da-2694ab2db3c3"
   },
   "outputs": [
    {
     "data": {
      "text/plain": [
       "PCA(copy=True, iterated_power='auto', n_components=0.9, random_state=None,\n",
       "    svd_solver='auto', tol=0.0, whiten=False)"
      ]
     },
     "execution_count": 62,
     "metadata": {
      "tags": []
     },
     "output_type": "execute_result"
    }
   ],
   "source": [
    "columns = ['count', 'season', 'holiday', 'workingday', 'weather','year', 'month', 'day', 'dayofweek','hour']\n",
    "col_for_PCA = ['temp','atemp','humidity','windspeed']\n",
    "pca.fit(df_train[col_for_PCA])"
   ]
  },
  {
   "cell_type": "code",
   "execution_count": 63,
   "metadata": {
    "colab": {
     "base_uri": "https://localhost:8080/",
     "height": 51
    },
    "colab_type": "code",
    "executionInfo": {
     "elapsed": 2073,
     "status": "ok",
     "timestamp": 1591154250321,
     "user": {
      "displayName": "Robins Yadav",
      "photoUrl": "",
      "userId": "09341548175987336254"
     },
     "user_tz": 420
    },
    "id": "kzgmADJ-AUKj",
    "outputId": "44bf3998-b83a-4373-b1af-7a65ae5ffd93"
   },
   "outputs": [
    {
     "name": "stdout",
     "output_type": "stream",
     "text": [
      "Variance:  0.9\n",
      "No. of components to keep:  3\n"
     ]
    }
   ],
   "source": [
    "## No. of PCA component obtained \n",
    "print('Variance: ', pca.n_components)\n",
    "print(\"No. of components to keep: \", pca.n_components_)"
   ]
  },
  {
   "cell_type": "code",
   "execution_count": 64,
   "metadata": {
    "colab": {
     "base_uri": "https://localhost:8080/",
     "height": 85
    },
    "colab_type": "code",
    "executionInfo": {
     "elapsed": 2061,
     "status": "ok",
     "timestamp": 1591154250324,
     "user": {
      "displayName": "Robins Yadav",
      "photoUrl": "",
      "userId": "09341548175987336254"
     },
     "user_tz": 420
    },
    "id": "3Ei9sUv2AnGA",
    "outputId": "fbf826f6-0263-4be1-cae3-2c6efa541eda"
   },
   "outputs": [
    {
     "name": "stdout",
     "output_type": "stream",
     "text": [
      "components: ['component_0', 'component_1', 'component_2']\n",
      "New features obtained from PCA ['component_0', 'component_1', 'component_2']\n",
      "components: ['component_0', 'component_1', 'component_2']\n"
     ]
    },
    {
     "data": {
      "text/plain": [
       "['component_0', 'component_1', 'component_2']"
      ]
     },
     "execution_count": 64,
     "metadata": {
      "tags": []
     },
     "output_type": "execute_result"
    }
   ],
   "source": [
    "### Add new PCA components features and drop the ['temp','atemp','humidity','windspeed'] features\n",
    "\n",
    "def transform_with_pca(pca, df, columns):\n",
    "    transformed_data = pca.transform(df[columns])\n",
    "    \n",
    "    tcols = []\n",
    "    for i in range(pca.n_components_):       \n",
    "        tcols.append('component_' + str(i))\n",
    "    \n",
    "    print ('components:', tcols)\n",
    "    df_transformed = pd.DataFrame(transformed_data, columns=tcols)\n",
    "    \n",
    "    for col in df_transformed.columns:\n",
    "        df[col] = df_transformed[col]\n",
    "    \n",
    "    df.drop(columns, inplace=True, axis=1)\n",
    "    \n",
    "    return tcols\n",
    "\n",
    "new_cols = transform_with_pca(pca, df_train, col_for_PCA)\n",
    "print(\"New features obtained from PCA\", new_cols)\n",
    "\n",
    "transform_with_pca(pca, df_test, col_for_PCA)"
   ]
  },
  {
   "cell_type": "code",
   "execution_count": 65,
   "metadata": {
    "colab": {
     "base_uri": "https://localhost:8080/",
     "height": 267
    },
    "colab_type": "code",
    "executionInfo": {
     "elapsed": 2442,
     "status": "ok",
     "timestamp": 1591154250727,
     "user": {
      "displayName": "Robins Yadav",
      "photoUrl": "",
      "userId": "09341548175987336254"
     },
     "user_tz": 420
    },
    "id": "iu52weAzDEWS",
    "outputId": "293c7883-7a3d-4148-a3d9-5b1094d773d9"
   },
   "outputs": [
    {
     "data": {
      "text/html": [
       "<div>\n",
       "<style scoped>\n",
       "    .dataframe tbody tr th:only-of-type {\n",
       "        vertical-align: middle;\n",
       "    }\n",
       "\n",
       "    .dataframe tbody tr th {\n",
       "        vertical-align: top;\n",
       "    }\n",
       "\n",
       "    .dataframe thead th {\n",
       "        text-align: right;\n",
       "    }\n",
       "</style>\n",
       "<table border=\"1\" class=\"dataframe\">\n",
       "  <thead>\n",
       "    <tr style=\"text-align: right;\">\n",
       "      <th></th>\n",
       "      <th>count</th>\n",
       "      <th>season</th>\n",
       "      <th>holiday</th>\n",
       "      <th>workingday</th>\n",
       "      <th>weather</th>\n",
       "      <th>year</th>\n",
       "      <th>month</th>\n",
       "      <th>day</th>\n",
       "      <th>dayofweek</th>\n",
       "      <th>hour</th>\n",
       "      <th>component_0</th>\n",
       "      <th>component_1</th>\n",
       "      <th>component_2</th>\n",
       "    </tr>\n",
       "  </thead>\n",
       "  <tbody>\n",
       "    <tr>\n",
       "      <th>0</th>\n",
       "      <td>2.833213</td>\n",
       "      <td>1</td>\n",
       "      <td>0</td>\n",
       "      <td>0</td>\n",
       "      <td>1</td>\n",
       "      <td>2011</td>\n",
       "      <td>1</td>\n",
       "      <td>1</td>\n",
       "      <td>5</td>\n",
       "      <td>0</td>\n",
       "      <td>-1.727078</td>\n",
       "      <td>-1.773606</td>\n",
       "      <td>-0.523238</td>\n",
       "    </tr>\n",
       "    <tr>\n",
       "      <th>1</th>\n",
       "      <td>3.713572</td>\n",
       "      <td>1</td>\n",
       "      <td>0</td>\n",
       "      <td>0</td>\n",
       "      <td>1</td>\n",
       "      <td>2011</td>\n",
       "      <td>1</td>\n",
       "      <td>1</td>\n",
       "      <td>5</td>\n",
       "      <td>1</td>\n",
       "      <td>-1.861064</td>\n",
       "      <td>-1.733926</td>\n",
       "      <td>-0.569779</td>\n",
       "    </tr>\n",
       "    <tr>\n",
       "      <th>2</th>\n",
       "      <td>3.496508</td>\n",
       "      <td>1</td>\n",
       "      <td>0</td>\n",
       "      <td>0</td>\n",
       "      <td>1</td>\n",
       "      <td>2011</td>\n",
       "      <td>1</td>\n",
       "      <td>1</td>\n",
       "      <td>5</td>\n",
       "      <td>2</td>\n",
       "      <td>-1.861064</td>\n",
       "      <td>-1.733926</td>\n",
       "      <td>-0.569779</td>\n",
       "    </tr>\n",
       "  </tbody>\n",
       "</table>\n",
       "</div>"
      ],
      "text/plain": [
       "      count  season  holiday  ...  component_0  component_1  component_2\n",
       "0  2.833213       1        0  ...    -1.727078    -1.773606    -0.523238\n",
       "1  3.713572       1        0  ...    -1.861064    -1.733926    -0.569779\n",
       "2  3.496508       1        0  ...    -1.861064    -1.733926    -0.569779\n",
       "\n",
       "[3 rows x 13 columns]"
      ]
     },
     "metadata": {
      "tags": []
     },
     "output_type": "display_data"
    },
    {
     "data": {
      "text/html": [
       "<div>\n",
       "<style scoped>\n",
       "    .dataframe tbody tr th:only-of-type {\n",
       "        vertical-align: middle;\n",
       "    }\n",
       "\n",
       "    .dataframe tbody tr th {\n",
       "        vertical-align: top;\n",
       "    }\n",
       "\n",
       "    .dataframe thead th {\n",
       "        text-align: right;\n",
       "    }\n",
       "</style>\n",
       "<table border=\"1\" class=\"dataframe\">\n",
       "  <thead>\n",
       "    <tr style=\"text-align: right;\">\n",
       "      <th></th>\n",
       "      <th>season</th>\n",
       "      <th>holiday</th>\n",
       "      <th>workingday</th>\n",
       "      <th>weather</th>\n",
       "      <th>year</th>\n",
       "      <th>month</th>\n",
       "      <th>day</th>\n",
       "      <th>dayofweek</th>\n",
       "      <th>hour</th>\n",
       "      <th>component_0</th>\n",
       "      <th>component_1</th>\n",
       "      <th>component_2</th>\n",
       "    </tr>\n",
       "  </thead>\n",
       "  <tbody>\n",
       "    <tr>\n",
       "      <th>0</th>\n",
       "      <td>1</td>\n",
       "      <td>0</td>\n",
       "      <td>1</td>\n",
       "      <td>1</td>\n",
       "      <td>2011</td>\n",
       "      <td>1</td>\n",
       "      <td>20</td>\n",
       "      <td>3</td>\n",
       "      <td>0</td>\n",
       "      <td>-1.920363</td>\n",
       "      <td>1.412416</td>\n",
       "      <td>0.791086</td>\n",
       "    </tr>\n",
       "    <tr>\n",
       "      <th>1</th>\n",
       "      <td>1</td>\n",
       "      <td>0</td>\n",
       "      <td>1</td>\n",
       "      <td>1</td>\n",
       "      <td>2011</td>\n",
       "      <td>1</td>\n",
       "      <td>20</td>\n",
       "      <td>3</td>\n",
       "      <td>1</td>\n",
       "      <td>-1.629284</td>\n",
       "      <td>-0.856109</td>\n",
       "      <td>-1.439095</td>\n",
       "    </tr>\n",
       "    <tr>\n",
       "      <th>2</th>\n",
       "      <td>1</td>\n",
       "      <td>0</td>\n",
       "      <td>1</td>\n",
       "      <td>1</td>\n",
       "      <td>2011</td>\n",
       "      <td>1</td>\n",
       "      <td>20</td>\n",
       "      <td>3</td>\n",
       "      <td>2</td>\n",
       "      <td>-1.629284</td>\n",
       "      <td>-0.856109</td>\n",
       "      <td>-1.439095</td>\n",
       "    </tr>\n",
       "  </tbody>\n",
       "</table>\n",
       "</div>"
      ],
      "text/plain": [
       "   season  holiday  workingday  ...  component_0  component_1  component_2\n",
       "0       1        0           1  ...    -1.920363     1.412416     0.791086\n",
       "1       1        0           1  ...    -1.629284    -0.856109    -1.439095\n",
       "2       1        0           1  ...    -1.629284    -0.856109    -1.439095\n",
       "\n",
       "[3 rows x 12 columns]"
      ]
     },
     "metadata": {
      "tags": []
     },
     "output_type": "display_data"
    }
   ],
   "source": [
    "## check train and test dataframes\n",
    "display(df_train.head(3))\n",
    "display(df_test.head(3))"
   ]
  },
  {
   "cell_type": "code",
   "execution_count": 66,
   "metadata": {
    "colab": {
     "base_uri": "https://localhost:8080/",
     "height": 238
    },
    "colab_type": "code",
    "executionInfo": {
     "elapsed": 2424,
     "status": "ok",
     "timestamp": 1591154250730,
     "user": {
      "displayName": "Robins Yadav",
      "photoUrl": "",
      "userId": "09341548175987336254"
     },
     "user_tz": 420
    },
    "id": "ABV0RYR-DfX_",
    "outputId": "924ad972-a1d1-41be-c523-c25a38e04e0f"
   },
   "outputs": [
    {
     "data": {
      "text/plain": [
       "['count',\n",
       " 'season',\n",
       " 'holiday',\n",
       " 'workingday',\n",
       " 'weather',\n",
       " 'year',\n",
       " 'month',\n",
       " 'day',\n",
       " 'dayofweek',\n",
       " 'hour',\n",
       " 'component_0',\n",
       " 'component_1',\n",
       " 'component_2']"
      ]
     },
     "execution_count": 66,
     "metadata": {
      "tags": []
     },
     "output_type": "execute_result"
    }
   ],
   "source": [
    "## \n",
    "for col in new_cols:\n",
    "    columns.append(col)\n",
    "\n",
    "columns"
   ]
  },
  {
   "cell_type": "markdown",
   "metadata": {
    "colab_type": "text",
    "id": "dLeaRkNOFO7J"
   },
   "source": [
    "### Training and Validation Set\n",
    "Training and validation files without column header"
   ]
  },
  {
   "cell_type": "code",
   "execution_count": 0,
   "metadata": {
    "colab": {},
    "colab_type": "code",
    "id": "k6MKFx7ZGCff"
   },
   "outputs": [],
   "source": [
    "# Validation = 30% of the data\n",
    "# Randomize the datset\n",
    "np.random.seed(5)\n",
    "l = list(df_train.index)\n",
    "np.random.shuffle(l) ## shuffling the train data\n",
    "df_train = df_train.loc[l]"
   ]
  },
  {
   "cell_type": "code",
   "execution_count": 68,
   "metadata": {
    "colab": {
     "base_uri": "https://localhost:8080/",
     "height": 34
    },
    "colab_type": "code",
    "executionInfo": {
     "elapsed": 2397,
     "status": "ok",
     "timestamp": 1591154250738,
     "user": {
      "displayName": "Robins Yadav",
      "photoUrl": "",
      "userId": "09341548175987336254"
     },
     "user_tz": 420
    },
    "id": "4bUlufG0GFxY",
    "outputId": "bd29da74-e3c7-41b0-dc9b-2e2ca0308d37"
   },
   "outputs": [
    {
     "name": "stdout",
     "output_type": "stream",
     "text": [
      "10886 7620 3266\n"
     ]
    }
   ],
   "source": [
    "## Splitting data for train and validation\n",
    "rows = df_train.shape[0]\n",
    "train = int(.7 * rows)\n",
    "valid = rows- train\n",
    "print(rows, train, valid)"
   ]
  },
  {
   "cell_type": "code",
   "execution_count": 69,
   "metadata": {
    "colab": {
     "base_uri": "https://localhost:8080/",
     "height": 54
    },
    "colab_type": "code",
    "executionInfo": {
     "elapsed": 2376,
     "status": "ok",
     "timestamp": 1591154250740,
     "user": {
      "displayName": "Robins Yadav",
      "photoUrl": "",
      "userId": "09341548175987336254"
     },
     "user_tz": 420
    },
    "id": "3e3C2oHEGI_R",
    "outputId": "6a6c89a7-9663-40a1-b32c-452aee806403"
   },
   "outputs": [
    {
     "name": "stdout",
     "output_type": "stream",
     "text": [
      "['count', 'season', 'holiday', 'workingday', 'weather', 'year', 'month', 'day', 'dayofweek', 'hour', 'component_0', 'component_1', 'component_2']\n"
     ]
    }
   ],
   "source": [
    "## check column name\n",
    "col = df_train.columns.tolist()\n",
    "print(col)"
   ]
  },
  {
   "cell_type": "code",
   "execution_count": 70,
   "metadata": {
    "colab": {
     "base_uri": "https://localhost:8080/",
     "height": 204
    },
    "colab_type": "code",
    "executionInfo": {
     "elapsed": 2361,
     "status": "ok",
     "timestamp": 1591154250742,
     "user": {
      "displayName": "Robins Yadav",
      "photoUrl": "",
      "userId": "09341548175987336254"
     },
     "user_tz": 420
    },
    "id": "qmEBL5g7GOuh",
    "outputId": "95f4a78d-6102-48cc-fba3-eee6e586cb77"
   },
   "outputs": [
    {
     "data": {
      "text/html": [
       "<div>\n",
       "<style scoped>\n",
       "    .dataframe tbody tr th:only-of-type {\n",
       "        vertical-align: middle;\n",
       "    }\n",
       "\n",
       "    .dataframe tbody tr th {\n",
       "        vertical-align: top;\n",
       "    }\n",
       "\n",
       "    .dataframe thead th {\n",
       "        text-align: right;\n",
       "    }\n",
       "</style>\n",
       "<table border=\"1\" class=\"dataframe\">\n",
       "  <thead>\n",
       "    <tr style=\"text-align: right;\">\n",
       "      <th></th>\n",
       "      <th>count</th>\n",
       "      <th>season</th>\n",
       "      <th>holiday</th>\n",
       "      <th>workingday</th>\n",
       "      <th>weather</th>\n",
       "      <th>year</th>\n",
       "      <th>month</th>\n",
       "      <th>day</th>\n",
       "      <th>dayofweek</th>\n",
       "      <th>hour</th>\n",
       "      <th>component_0</th>\n",
       "      <th>component_1</th>\n",
       "      <th>component_2</th>\n",
       "    </tr>\n",
       "  </thead>\n",
       "  <tbody>\n",
       "    <tr>\n",
       "      <th>0</th>\n",
       "      <td>4.477337</td>\n",
       "      <td>3</td>\n",
       "      <td>0</td>\n",
       "      <td>0</td>\n",
       "      <td>2</td>\n",
       "      <td>2011</td>\n",
       "      <td>9</td>\n",
       "      <td>3</td>\n",
       "      <td>5</td>\n",
       "      <td>0</td>\n",
       "      <td>1.081421</td>\n",
       "      <td>-0.937364</td>\n",
       "      <td>-0.014431</td>\n",
       "    </tr>\n",
       "    <tr>\n",
       "      <th>1</th>\n",
       "      <td>5.517453</td>\n",
       "      <td>3</td>\n",
       "      <td>0</td>\n",
       "      <td>1</td>\n",
       "      <td>1</td>\n",
       "      <td>2012</td>\n",
       "      <td>8</td>\n",
       "      <td>13</td>\n",
       "      <td>0</td>\n",
       "      <td>14</td>\n",
       "      <td>2.192260</td>\n",
       "      <td>0.507226</td>\n",
       "      <td>-1.412858</td>\n",
       "    </tr>\n",
       "    <tr>\n",
       "      <th>2</th>\n",
       "      <td>5.814131</td>\n",
       "      <td>4</td>\n",
       "      <td>0</td>\n",
       "      <td>0</td>\n",
       "      <td>1</td>\n",
       "      <td>2011</td>\n",
       "      <td>11</td>\n",
       "      <td>5</td>\n",
       "      <td>5</td>\n",
       "      <td>17</td>\n",
       "      <td>-0.667403</td>\n",
       "      <td>0.660581</td>\n",
       "      <td>-1.013002</td>\n",
       "    </tr>\n",
       "    <tr>\n",
       "      <th>3</th>\n",
       "      <td>6.436150</td>\n",
       "      <td>3</td>\n",
       "      <td>0</td>\n",
       "      <td>1</td>\n",
       "      <td>1</td>\n",
       "      <td>2012</td>\n",
       "      <td>8</td>\n",
       "      <td>9</td>\n",
       "      <td>3</td>\n",
       "      <td>19</td>\n",
       "      <td>2.344418</td>\n",
       "      <td>0.211416</td>\n",
       "      <td>-0.073554</td>\n",
       "    </tr>\n",
       "    <tr>\n",
       "      <th>4</th>\n",
       "      <td>4.262680</td>\n",
       "      <td>2</td>\n",
       "      <td>0</td>\n",
       "      <td>1</td>\n",
       "      <td>1</td>\n",
       "      <td>2011</td>\n",
       "      <td>4</td>\n",
       "      <td>14</td>\n",
       "      <td>3</td>\n",
       "      <td>6</td>\n",
       "      <td>-1.114013</td>\n",
       "      <td>-0.994734</td>\n",
       "      <td>-0.058183</td>\n",
       "    </tr>\n",
       "  </tbody>\n",
       "</table>\n",
       "</div>"
      ],
      "text/plain": [
       "      count  season  holiday  ...  component_0  component_1  component_2\n",
       "0  4.477337       3        0  ...     1.081421    -0.937364    -0.014431\n",
       "1  5.517453       3        0  ...     2.192260     0.507226    -1.412858\n",
       "2  5.814131       4        0  ...    -0.667403     0.660581    -1.013002\n",
       "3  6.436150       3        0  ...     2.344418     0.211416    -0.073554\n",
       "4  4.262680       2        0  ...    -1.114013    -0.994734    -0.058183\n",
       "\n",
       "[5 rows x 13 columns]"
      ]
     },
     "execution_count": 70,
     "metadata": {
      "tags": []
     },
     "output_type": "execute_result"
    }
   ],
   "source": [
    "# Write Training Set\n",
    "df_train.iloc[:train].to_csv('rob_bike_train_pca.csv',\n",
    "                             index=False,\n",
    "                             header=False,\n",
    "                             columns=columns)\n",
    "# Write Validation Set\n",
    "df_train.iloc[train:].to_csv('rob_bike_validation_pca.csv',\n",
    "                       index=False,\n",
    "                       header=False,\n",
    "                       columns=columns)\n",
    "\n",
    "## check\n",
    "check_train = pd.read_csv(\"rob_bike_train_pca.csv\", names=columns)\n",
    "check_train.head()"
   ]
  },
  {
   "cell_type": "code",
   "execution_count": 71,
   "metadata": {
    "colab": {
     "base_uri": "https://localhost:8080/",
     "height": 204
    },
    "colab_type": "code",
    "executionInfo": {
     "elapsed": 2345,
     "status": "ok",
     "timestamp": 1591154250744,
     "user": {
      "displayName": "Robins Yadav",
      "photoUrl": "",
      "userId": "09341548175987336254"
     },
     "user_tz": 420
    },
    "id": "0b6iZD54Gl8y",
    "outputId": "a91a6fec-f62c-4cfb-d9cd-55a9a4eda4e8"
   },
   "outputs": [
    {
     "data": {
      "text/html": [
       "<div>\n",
       "<style scoped>\n",
       "    .dataframe tbody tr th:only-of-type {\n",
       "        vertical-align: middle;\n",
       "    }\n",
       "\n",
       "    .dataframe tbody tr th {\n",
       "        vertical-align: top;\n",
       "    }\n",
       "\n",
       "    .dataframe thead th {\n",
       "        text-align: right;\n",
       "    }\n",
       "</style>\n",
       "<table border=\"1\" class=\"dataframe\">\n",
       "  <thead>\n",
       "    <tr style=\"text-align: right;\">\n",
       "      <th></th>\n",
       "      <th>season</th>\n",
       "      <th>holiday</th>\n",
       "      <th>workingday</th>\n",
       "      <th>weather</th>\n",
       "      <th>year</th>\n",
       "      <th>month</th>\n",
       "      <th>day</th>\n",
       "      <th>dayofweek</th>\n",
       "      <th>hour</th>\n",
       "      <th>component_0</th>\n",
       "      <th>component_1</th>\n",
       "      <th>component_2</th>\n",
       "    </tr>\n",
       "  </thead>\n",
       "  <tbody>\n",
       "    <tr>\n",
       "      <th>0</th>\n",
       "      <td>1</td>\n",
       "      <td>0</td>\n",
       "      <td>1</td>\n",
       "      <td>1</td>\n",
       "      <td>2011</td>\n",
       "      <td>1</td>\n",
       "      <td>20</td>\n",
       "      <td>3</td>\n",
       "      <td>0</td>\n",
       "      <td>-1.920363</td>\n",
       "      <td>1.412416</td>\n",
       "      <td>0.791086</td>\n",
       "    </tr>\n",
       "    <tr>\n",
       "      <th>1</th>\n",
       "      <td>1</td>\n",
       "      <td>0</td>\n",
       "      <td>1</td>\n",
       "      <td>1</td>\n",
       "      <td>2011</td>\n",
       "      <td>1</td>\n",
       "      <td>20</td>\n",
       "      <td>3</td>\n",
       "      <td>1</td>\n",
       "      <td>-1.629284</td>\n",
       "      <td>-0.856109</td>\n",
       "      <td>-1.439095</td>\n",
       "    </tr>\n",
       "    <tr>\n",
       "      <th>2</th>\n",
       "      <td>1</td>\n",
       "      <td>0</td>\n",
       "      <td>1</td>\n",
       "      <td>1</td>\n",
       "      <td>2011</td>\n",
       "      <td>1</td>\n",
       "      <td>20</td>\n",
       "      <td>3</td>\n",
       "      <td>2</td>\n",
       "      <td>-1.629284</td>\n",
       "      <td>-0.856109</td>\n",
       "      <td>-1.439095</td>\n",
       "    </tr>\n",
       "    <tr>\n",
       "      <th>3</th>\n",
       "      <td>1</td>\n",
       "      <td>0</td>\n",
       "      <td>1</td>\n",
       "      <td>1</td>\n",
       "      <td>2011</td>\n",
       "      <td>1</td>\n",
       "      <td>20</td>\n",
       "      <td>3</td>\n",
       "      <td>3</td>\n",
       "      <td>-1.735344</td>\n",
       "      <td>0.102855</td>\n",
       "      <td>-0.494568</td>\n",
       "    </tr>\n",
       "    <tr>\n",
       "      <th>4</th>\n",
       "      <td>1</td>\n",
       "      <td>0</td>\n",
       "      <td>1</td>\n",
       "      <td>1</td>\n",
       "      <td>2011</td>\n",
       "      <td>1</td>\n",
       "      <td>20</td>\n",
       "      <td>3</td>\n",
       "      <td>4</td>\n",
       "      <td>-1.735344</td>\n",
       "      <td>0.102855</td>\n",
       "      <td>-0.494568</td>\n",
       "    </tr>\n",
       "  </tbody>\n",
       "</table>\n",
       "</div>"
      ],
      "text/plain": [
       "   season  holiday  workingday  ...  component_0  component_1  component_2\n",
       "0       1        0           1  ...    -1.920363     1.412416     0.791086\n",
       "1       1        0           1  ...    -1.629284    -0.856109    -1.439095\n",
       "2       1        0           1  ...    -1.629284    -0.856109    -1.439095\n",
       "3       1        0           1  ...    -1.735344     0.102855    -0.494568\n",
       "4       1        0           1  ...    -1.735344     0.102855    -0.494568\n",
       "\n",
       "[5 rows x 12 columns]"
      ]
     },
     "execution_count": 71,
     "metadata": {
      "tags": []
     },
     "output_type": "execute_result"
    }
   ],
   "source": [
    "# Test Data has only input features\n",
    "df_test.to_csv('rob_bike_test_pca.csv', index=True, index_label='datetime')\n",
    "df_test.head()"
   ]
  },
  {
   "cell_type": "code",
   "execution_count": 72,
   "metadata": {
    "colab": {
     "base_uri": "https://localhost:8080/",
     "height": 34
    },
    "colab_type": "code",
    "executionInfo": {
     "elapsed": 2325,
     "status": "ok",
     "timestamp": 1591154250745,
     "user": {
      "displayName": "Robins Yadav",
      "photoUrl": "",
      "userId": "09341548175987336254"
     },
     "user_tz": 420
    },
    "id": "CjXaiSy2GygG",
    "outputId": "258c53ca-199a-42fe-a3a5-921e89af8ddd"
   },
   "outputs": [
    {
     "name": "stdout",
     "output_type": "stream",
     "text": [
      "count,season,holiday,workingday,weather,year,month,day,dayofweek,hour,component_0,component_1,component_2\n"
     ]
    }
   ],
   "source": [
    "print(','.join(columns))\n",
    "# Write Column List\n",
    "with open('rob_bike_train_column_list_pca.txt','w') as f:\n",
    "    f.write(','.join(columns))"
   ]
  },
  {
   "cell_type": "code",
   "execution_count": 0,
   "metadata": {
    "colab": {},
    "colab_type": "code",
    "id": "I9pkDvO0G68c"
   },
   "outputs": [],
   "source": []
  },
  {
   "cell_type": "markdown",
   "metadata": {
    "colab_type": "text",
    "id": "CaIXHJ2LHKn6"
   },
   "source": [
    "## Train a model with bike rental data using PCA project with XGBoost algorithm\n",
    "#### Model is trained with XGBoost installed in notebook instance"
   ]
  },
  {
   "cell_type": "code",
   "execution_count": 0,
   "metadata": {
    "colab": {},
    "colab_type": "code",
    "id": "SO5S-YCXHi4X"
   },
   "outputs": [],
   "source": [
    "import sys\n",
    "import numpy as np\n",
    "import pandas as pd\n",
    "import matplotlib.pyplot as plt\n",
    "from sklearn.metrics import mean_squared_error, mean_absolute_error\n",
    "\n",
    "# XGBoost \n",
    "import xgboost as xgb"
   ]
  },
  {
   "cell_type": "code",
   "execution_count": 74,
   "metadata": {
    "colab": {
     "base_uri": "https://localhost:8080/",
     "height": 238
    },
    "colab_type": "code",
    "executionInfo": {
     "elapsed": 2285,
     "status": "ok",
     "timestamp": 1591154250749,
     "user": {
      "displayName": "Robins Yadav",
      "photoUrl": "",
      "userId": "09341548175987336254"
     },
     "user_tz": 420
    },
    "id": "E5m12z3SHn1m",
    "outputId": "0088238f-42c6-40ef-f8d4-55ac1fc37be3"
   },
   "outputs": [
    {
     "data": {
      "text/plain": [
       "['count',\n",
       " 'season',\n",
       " 'holiday',\n",
       " 'workingday',\n",
       " 'weather',\n",
       " 'year',\n",
       " 'month',\n",
       " 'day',\n",
       " 'dayofweek',\n",
       " 'hour',\n",
       " 'component_0',\n",
       " 'component_1',\n",
       " 'component_2']"
      ]
     },
     "execution_count": 74,
     "metadata": {
      "tags": []
     },
     "output_type": "execute_result"
    }
   ],
   "source": [
    "## check for columns name\n",
    "column_list_file = 'rob_bike_train_column_list_pca.txt'\n",
    "columns = ''\n",
    "with open(column_list_file,'r') as f:\n",
    "    columns = f.read().split(',')\n",
    "\n",
    "columns"
   ]
  },
  {
   "cell_type": "code",
   "execution_count": 75,
   "metadata": {
    "colab": {
     "base_uri": "https://localhost:8080/",
     "height": 391
    },
    "colab_type": "code",
    "executionInfo": {
     "elapsed": 2260,
     "status": "ok",
     "timestamp": 1591154250750,
     "user": {
      "displayName": "Robins Yadav",
      "photoUrl": "",
      "userId": "09341548175987336254"
     },
     "user_tz": 420
    },
    "id": "l7sPTkLSHu1C",
    "outputId": "63418f07-cb12-4e10-a7b3-242bb6be391d"
   },
   "outputs": [
    {
     "data": {
      "text/html": [
       "<div>\n",
       "<style scoped>\n",
       "    .dataframe tbody tr th:only-of-type {\n",
       "        vertical-align: middle;\n",
       "    }\n",
       "\n",
       "    .dataframe tbody tr th {\n",
       "        vertical-align: top;\n",
       "    }\n",
       "\n",
       "    .dataframe thead th {\n",
       "        text-align: right;\n",
       "    }\n",
       "</style>\n",
       "<table border=\"1\" class=\"dataframe\">\n",
       "  <thead>\n",
       "    <tr style=\"text-align: right;\">\n",
       "      <th></th>\n",
       "      <th>count</th>\n",
       "      <th>season</th>\n",
       "      <th>holiday</th>\n",
       "      <th>workingday</th>\n",
       "      <th>weather</th>\n",
       "      <th>year</th>\n",
       "      <th>month</th>\n",
       "      <th>day</th>\n",
       "      <th>dayofweek</th>\n",
       "      <th>hour</th>\n",
       "      <th>component_0</th>\n",
       "      <th>component_1</th>\n",
       "      <th>component_2</th>\n",
       "    </tr>\n",
       "  </thead>\n",
       "  <tbody>\n",
       "    <tr>\n",
       "      <th>0</th>\n",
       "      <td>4.477337</td>\n",
       "      <td>3</td>\n",
       "      <td>0</td>\n",
       "      <td>0</td>\n",
       "      <td>2</td>\n",
       "      <td>2011</td>\n",
       "      <td>9</td>\n",
       "      <td>3</td>\n",
       "      <td>5</td>\n",
       "      <td>0</td>\n",
       "      <td>1.081421</td>\n",
       "      <td>-0.937364</td>\n",
       "      <td>-0.014431</td>\n",
       "    </tr>\n",
       "    <tr>\n",
       "      <th>1</th>\n",
       "      <td>5.517453</td>\n",
       "      <td>3</td>\n",
       "      <td>0</td>\n",
       "      <td>1</td>\n",
       "      <td>1</td>\n",
       "      <td>2012</td>\n",
       "      <td>8</td>\n",
       "      <td>13</td>\n",
       "      <td>0</td>\n",
       "      <td>14</td>\n",
       "      <td>2.192260</td>\n",
       "      <td>0.507226</td>\n",
       "      <td>-1.412858</td>\n",
       "    </tr>\n",
       "    <tr>\n",
       "      <th>2</th>\n",
       "      <td>5.814131</td>\n",
       "      <td>4</td>\n",
       "      <td>0</td>\n",
       "      <td>0</td>\n",
       "      <td>1</td>\n",
       "      <td>2011</td>\n",
       "      <td>11</td>\n",
       "      <td>5</td>\n",
       "      <td>5</td>\n",
       "      <td>17</td>\n",
       "      <td>-0.667403</td>\n",
       "      <td>0.660581</td>\n",
       "      <td>-1.013002</td>\n",
       "    </tr>\n",
       "    <tr>\n",
       "      <th>3</th>\n",
       "      <td>6.436150</td>\n",
       "      <td>3</td>\n",
       "      <td>0</td>\n",
       "      <td>1</td>\n",
       "      <td>1</td>\n",
       "      <td>2012</td>\n",
       "      <td>8</td>\n",
       "      <td>9</td>\n",
       "      <td>3</td>\n",
       "      <td>19</td>\n",
       "      <td>2.344418</td>\n",
       "      <td>0.211416</td>\n",
       "      <td>-0.073554</td>\n",
       "    </tr>\n",
       "    <tr>\n",
       "      <th>4</th>\n",
       "      <td>4.262680</td>\n",
       "      <td>2</td>\n",
       "      <td>0</td>\n",
       "      <td>1</td>\n",
       "      <td>1</td>\n",
       "      <td>2011</td>\n",
       "      <td>4</td>\n",
       "      <td>14</td>\n",
       "      <td>3</td>\n",
       "      <td>6</td>\n",
       "      <td>-1.114013</td>\n",
       "      <td>-0.994734</td>\n",
       "      <td>-0.058183</td>\n",
       "    </tr>\n",
       "  </tbody>\n",
       "</table>\n",
       "</div>"
      ],
      "text/plain": [
       "      count  season  holiday  ...  component_0  component_1  component_2\n",
       "0  4.477337       3        0  ...     1.081421    -0.937364    -0.014431\n",
       "1  5.517453       3        0  ...     2.192260     0.507226    -1.412858\n",
       "2  5.814131       4        0  ...    -0.667403     0.660581    -1.013002\n",
       "3  6.436150       3        0  ...     2.344418     0.211416    -0.073554\n",
       "4  4.262680       2        0  ...    -1.114013    -0.994734    -0.058183\n",
       "\n",
       "[5 rows x 13 columns]"
      ]
     },
     "metadata": {
      "tags": []
     },
     "output_type": "display_data"
    },
    {
     "data": {
      "text/html": [
       "<div>\n",
       "<style scoped>\n",
       "    .dataframe tbody tr th:only-of-type {\n",
       "        vertical-align: middle;\n",
       "    }\n",
       "\n",
       "    .dataframe tbody tr th {\n",
       "        vertical-align: top;\n",
       "    }\n",
       "\n",
       "    .dataframe thead th {\n",
       "        text-align: right;\n",
       "    }\n",
       "</style>\n",
       "<table border=\"1\" class=\"dataframe\">\n",
       "  <thead>\n",
       "    <tr style=\"text-align: right;\">\n",
       "      <th></th>\n",
       "      <th>count</th>\n",
       "      <th>season</th>\n",
       "      <th>holiday</th>\n",
       "      <th>workingday</th>\n",
       "      <th>weather</th>\n",
       "      <th>year</th>\n",
       "      <th>month</th>\n",
       "      <th>day</th>\n",
       "      <th>dayofweek</th>\n",
       "      <th>hour</th>\n",
       "      <th>component_0</th>\n",
       "      <th>component_1</th>\n",
       "      <th>component_2</th>\n",
       "    </tr>\n",
       "  </thead>\n",
       "  <tbody>\n",
       "    <tr>\n",
       "      <th>0</th>\n",
       "      <td>6.095825</td>\n",
       "      <td>3</td>\n",
       "      <td>0</td>\n",
       "      <td>1</td>\n",
       "      <td>2</td>\n",
       "      <td>2011</td>\n",
       "      <td>7</td>\n",
       "      <td>7</td>\n",
       "      <td>3</td>\n",
       "      <td>8</td>\n",
       "      <td>1.511799</td>\n",
       "      <td>-0.648078</td>\n",
       "      <td>0.755707</td>\n",
       "    </tr>\n",
       "    <tr>\n",
       "      <th>1</th>\n",
       "      <td>5.961005</td>\n",
       "      <td>2</td>\n",
       "      <td>0</td>\n",
       "      <td>0</td>\n",
       "      <td>1</td>\n",
       "      <td>2011</td>\n",
       "      <td>6</td>\n",
       "      <td>11</td>\n",
       "      <td>5</td>\n",
       "      <td>13</td>\n",
       "      <td>2.344418</td>\n",
       "      <td>0.211416</td>\n",
       "      <td>-0.073554</td>\n",
       "    </tr>\n",
       "    <tr>\n",
       "      <th>2</th>\n",
       "      <td>1.098612</td>\n",
       "      <td>1</td>\n",
       "      <td>0</td>\n",
       "      <td>1</td>\n",
       "      <td>1</td>\n",
       "      <td>2011</td>\n",
       "      <td>2</td>\n",
       "      <td>14</td>\n",
       "      <td>0</td>\n",
       "      <td>2</td>\n",
       "      <td>-1.029108</td>\n",
       "      <td>1.454607</td>\n",
       "      <td>-0.258043</td>\n",
       "    </tr>\n",
       "    <tr>\n",
       "      <th>3</th>\n",
       "      <td>3.891820</td>\n",
       "      <td>1</td>\n",
       "      <td>0</td>\n",
       "      <td>1</td>\n",
       "      <td>1</td>\n",
       "      <td>2011</td>\n",
       "      <td>2</td>\n",
       "      <td>8</td>\n",
       "      <td>1</td>\n",
       "      <td>10</td>\n",
       "      <td>-2.270060</td>\n",
       "      <td>2.706229</td>\n",
       "      <td>1.384771</td>\n",
       "    </tr>\n",
       "    <tr>\n",
       "      <th>4</th>\n",
       "      <td>4.025352</td>\n",
       "      <td>4</td>\n",
       "      <td>0</td>\n",
       "      <td>0</td>\n",
       "      <td>1</td>\n",
       "      <td>2011</td>\n",
       "      <td>12</td>\n",
       "      <td>4</td>\n",
       "      <td>6</td>\n",
       "      <td>8</td>\n",
       "      <td>-1.610871</td>\n",
       "      <td>-1.996173</td>\n",
       "      <td>-0.293018</td>\n",
       "    </tr>\n",
       "  </tbody>\n",
       "</table>\n",
       "</div>"
      ],
      "text/plain": [
       "      count  season  holiday  ...  component_0  component_1  component_2\n",
       "0  6.095825       3        0  ...     1.511799    -0.648078     0.755707\n",
       "1  5.961005       2        0  ...     2.344418     0.211416    -0.073554\n",
       "2  1.098612       1        0  ...    -1.029108     1.454607    -0.258043\n",
       "3  3.891820       1        0  ...    -2.270060     2.706229     1.384771\n",
       "4  4.025352       4        0  ...    -1.610871    -1.996173    -0.293018\n",
       "\n",
       "[5 rows x 13 columns]"
      ]
     },
     "metadata": {
      "tags": []
     },
     "output_type": "display_data"
    }
   ],
   "source": [
    "# Specify the column names as the file does not have column header\n",
    "df_train = pd.read_csv('rob_bike_train_pca.csv', names=columns)\n",
    "display(df_train.head())\n",
    "\n",
    "df_validation = pd.read_csv('rob_bike_validation_pca.csv', names=columns)\n",
    "display(df_validation.head())"
   ]
  },
  {
   "cell_type": "code",
   "execution_count": 0,
   "metadata": {
    "colab": {},
    "colab_type": "code",
    "id": "iWdtqiN5ICGM"
   },
   "outputs": [],
   "source": [
    "## Preparing Independent features and dependent feature\n",
    "X_train = df_train.iloc[:,1:] # Features: 1st column onwards \n",
    "y_train = df_train.iloc[:,0].ravel() # Target: 0th column\n",
    "\n",
    "X_validation = df_validation.iloc[:,1:]\n",
    "y_validation = df_validation.iloc[:,0].ravel()\n",
    "\n",
    "## XGBoost accepts target variable in first column"
   ]
  },
  {
   "cell_type": "code",
   "execution_count": 77,
   "metadata": {
    "colab": {
     "base_uri": "https://localhost:8080/",
     "height": 136
    },
    "colab_type": "code",
    "executionInfo": {
     "elapsed": 2227,
     "status": "ok",
     "timestamp": 1591154250752,
     "user": {
      "displayName": "Robins Yadav",
      "photoUrl": "",
      "userId": "09341548175987336254"
     },
     "user_tz": 420
    },
    "id": "LDPbyYj8ION2",
    "outputId": "d4429ca0-767a-4d83-f619-29388673b7f3"
   },
   "outputs": [
    {
     "data": {
      "text/plain": [
       "XGBRegressor(base_score=0.5, booster='gbtree', colsample_bylevel=1,\n",
       "             colsample_bynode=1, colsample_bytree=1, gamma=0,\n",
       "             importance_type='gain', learning_rate=0.1, max_delta_step=0,\n",
       "             max_depth=5, min_child_weight=1, missing=None, n_estimators=150,\n",
       "             n_jobs=1, nthread=None, objective='reg:linear', random_state=0,\n",
       "             reg_alpha=0, reg_lambda=1, scale_pos_weight=1, seed=None,\n",
       "             silent=None, subsample=1, verbosity=1)"
      ]
     },
     "execution_count": 77,
     "metadata": {
      "tags": []
     },
     "output_type": "execute_result"
    }
   ],
   "source": [
    "# XGBoost Training Parameter Reference: \n",
    "#   https://github.com/dmlc/xgboost/blob/master/doc/parameter.md\n",
    "#regressor = xgb.XGBRegressor(max_depth=5,eta=0.1,subsample=0.7,num_round=150)\n",
    "regressor = xgb.XGBRegressor(max_depth=5, n_estimators=150)\n",
    "regressor"
   ]
  },
  {
   "cell_type": "code",
   "execution_count": 78,
   "metadata": {
    "colab": {
     "base_uri": "https://localhost:8080/",
     "height": 1000
    },
    "colab_type": "code",
    "executionInfo": {
     "elapsed": 4048,
     "status": "ok",
     "timestamp": 1591154252596,
     "user": {
      "displayName": "Robins Yadav",
      "photoUrl": "",
      "userId": "09341548175987336254"
     },
     "user_tz": 420
    },
    "id": "y_NQ969eIT_c",
    "outputId": "846980e9-04ca-426c-9591-652e8a6b170a"
   },
   "outputs": [
    {
     "name": "stdout",
     "output_type": "stream",
     "text": [
      "[03:17:29] WARNING: /workspace/src/objective/regression_obj.cu:152: reg:linear is now deprecated in favor of reg:squarederror.\n",
      "[0]\tvalidation_0-rmse:3.90503\tvalidation_1-rmse:3.91558\n",
      "[1]\tvalidation_0-rmse:3.52579\tvalidation_1-rmse:3.53498\n",
      "[2]\tvalidation_0-rmse:3.18374\tvalidation_1-rmse:3.19199\n",
      "[3]\tvalidation_0-rmse:2.87784\tvalidation_1-rmse:2.88444\n",
      "[4]\tvalidation_0-rmse:2.60207\tvalidation_1-rmse:2.60791\n",
      "[5]\tvalidation_0-rmse:2.35513\tvalidation_1-rmse:2.35992\n",
      "[6]\tvalidation_0-rmse:2.13249\tvalidation_1-rmse:2.1363\n",
      "[7]\tvalidation_0-rmse:1.93375\tvalidation_1-rmse:1.93698\n",
      "[8]\tvalidation_0-rmse:1.75554\tvalidation_1-rmse:1.75881\n",
      "[9]\tvalidation_0-rmse:1.59618\tvalidation_1-rmse:1.59933\n",
      "[10]\tvalidation_0-rmse:1.45216\tvalidation_1-rmse:1.45539\n",
      "[11]\tvalidation_0-rmse:1.32473\tvalidation_1-rmse:1.32832\n",
      "[12]\tvalidation_0-rmse:1.20896\tvalidation_1-rmse:1.21263\n",
      "[13]\tvalidation_0-rmse:1.10199\tvalidation_1-rmse:1.10685\n",
      "[14]\tvalidation_0-rmse:1.00629\tvalidation_1-rmse:1.01227\n",
      "[15]\tvalidation_0-rmse:0.923948\tvalidation_1-rmse:0.930727\n",
      "[16]\tvalidation_0-rmse:0.850681\tvalidation_1-rmse:0.857867\n",
      "[17]\tvalidation_0-rmse:0.786185\tvalidation_1-rmse:0.794226\n",
      "[18]\tvalidation_0-rmse:0.730248\tvalidation_1-rmse:0.739425\n",
      "[19]\tvalidation_0-rmse:0.680742\tvalidation_1-rmse:0.690839\n",
      "[20]\tvalidation_0-rmse:0.635591\tvalidation_1-rmse:0.64648\n",
      "[21]\tvalidation_0-rmse:0.597064\tvalidation_1-rmse:0.608249\n",
      "[22]\tvalidation_0-rmse:0.561091\tvalidation_1-rmse:0.573062\n",
      "[23]\tvalidation_0-rmse:0.530666\tvalidation_1-rmse:0.543871\n",
      "[24]\tvalidation_0-rmse:0.501699\tvalidation_1-rmse:0.516227\n",
      "[25]\tvalidation_0-rmse:0.47852\tvalidation_1-rmse:0.493595\n",
      "[26]\tvalidation_0-rmse:0.458031\tvalidation_1-rmse:0.47406\n",
      "[27]\tvalidation_0-rmse:0.440497\tvalidation_1-rmse:0.457368\n",
      "[28]\tvalidation_0-rmse:0.422522\tvalidation_1-rmse:0.440734\n",
      "[29]\tvalidation_0-rmse:0.409378\tvalidation_1-rmse:0.428135\n",
      "[30]\tvalidation_0-rmse:0.3978\tvalidation_1-rmse:0.417241\n",
      "[31]\tvalidation_0-rmse:0.383412\tvalidation_1-rmse:0.403938\n",
      "[32]\tvalidation_0-rmse:0.372919\tvalidation_1-rmse:0.394077\n",
      "[33]\tvalidation_0-rmse:0.365789\tvalidation_1-rmse:0.387685\n",
      "[34]\tvalidation_0-rmse:0.357542\tvalidation_1-rmse:0.380576\n",
      "[35]\tvalidation_0-rmse:0.351883\tvalidation_1-rmse:0.37584\n",
      "[36]\tvalidation_0-rmse:0.346983\tvalidation_1-rmse:0.371519\n",
      "[37]\tvalidation_0-rmse:0.341824\tvalidation_1-rmse:0.36752\n",
      "[38]\tvalidation_0-rmse:0.337986\tvalidation_1-rmse:0.364501\n",
      "[39]\tvalidation_0-rmse:0.333642\tvalidation_1-rmse:0.360447\n",
      "[40]\tvalidation_0-rmse:0.330467\tvalidation_1-rmse:0.358151\n",
      "[41]\tvalidation_0-rmse:0.327561\tvalidation_1-rmse:0.356048\n",
      "[42]\tvalidation_0-rmse:0.324875\tvalidation_1-rmse:0.354016\n",
      "[43]\tvalidation_0-rmse:0.320993\tvalidation_1-rmse:0.350563\n",
      "[44]\tvalidation_0-rmse:0.316345\tvalidation_1-rmse:0.346432\n",
      "[45]\tvalidation_0-rmse:0.314349\tvalidation_1-rmse:0.345061\n",
      "[46]\tvalidation_0-rmse:0.310743\tvalidation_1-rmse:0.342152\n",
      "[47]\tvalidation_0-rmse:0.308993\tvalidation_1-rmse:0.341036\n",
      "[48]\tvalidation_0-rmse:0.307463\tvalidation_1-rmse:0.339977\n",
      "[49]\tvalidation_0-rmse:0.303272\tvalidation_1-rmse:0.336248\n",
      "[50]\tvalidation_0-rmse:0.301104\tvalidation_1-rmse:0.334704\n",
      "[51]\tvalidation_0-rmse:0.296737\tvalidation_1-rmse:0.330974\n",
      "[52]\tvalidation_0-rmse:0.295514\tvalidation_1-rmse:0.330169\n",
      "[53]\tvalidation_0-rmse:0.294542\tvalidation_1-rmse:0.329606\n",
      "[54]\tvalidation_0-rmse:0.290937\tvalidation_1-rmse:0.326483\n",
      "[55]\tvalidation_0-rmse:0.289831\tvalidation_1-rmse:0.325731\n",
      "[56]\tvalidation_0-rmse:0.288741\tvalidation_1-rmse:0.325117\n",
      "[57]\tvalidation_0-rmse:0.287492\tvalidation_1-rmse:0.32447\n",
      "[58]\tvalidation_0-rmse:0.284591\tvalidation_1-rmse:0.322067\n",
      "[59]\tvalidation_0-rmse:0.283902\tvalidation_1-rmse:0.321872\n",
      "[60]\tvalidation_0-rmse:0.283128\tvalidation_1-rmse:0.321474\n",
      "[61]\tvalidation_0-rmse:0.280469\tvalidation_1-rmse:0.318955\n",
      "[62]\tvalidation_0-rmse:0.279243\tvalidation_1-rmse:0.318176\n",
      "[63]\tvalidation_0-rmse:0.277573\tvalidation_1-rmse:0.317221\n",
      "[64]\tvalidation_0-rmse:0.27496\tvalidation_1-rmse:0.314855\n",
      "[65]\tvalidation_0-rmse:0.274402\tvalidation_1-rmse:0.314622\n",
      "[66]\tvalidation_0-rmse:0.273296\tvalidation_1-rmse:0.313856\n",
      "[67]\tvalidation_0-rmse:0.272769\tvalidation_1-rmse:0.313699\n",
      "[68]\tvalidation_0-rmse:0.270803\tvalidation_1-rmse:0.311922\n",
      "[69]\tvalidation_0-rmse:0.270031\tvalidation_1-rmse:0.311147\n",
      "[70]\tvalidation_0-rmse:0.267022\tvalidation_1-rmse:0.308418\n",
      "[71]\tvalidation_0-rmse:0.265408\tvalidation_1-rmse:0.30715\n",
      "[72]\tvalidation_0-rmse:0.26489\tvalidation_1-rmse:0.307071\n",
      "[73]\tvalidation_0-rmse:0.264617\tvalidation_1-rmse:0.306921\n",
      "[74]\tvalidation_0-rmse:0.26422\tvalidation_1-rmse:0.306701\n",
      "[75]\tvalidation_0-rmse:0.263637\tvalidation_1-rmse:0.306738\n",
      "[76]\tvalidation_0-rmse:0.262686\tvalidation_1-rmse:0.305907\n",
      "[77]\tvalidation_0-rmse:0.262113\tvalidation_1-rmse:0.305743\n",
      "[78]\tvalidation_0-rmse:0.261103\tvalidation_1-rmse:0.305052\n",
      "[79]\tvalidation_0-rmse:0.260436\tvalidation_1-rmse:0.304766\n",
      "[80]\tvalidation_0-rmse:0.259212\tvalidation_1-rmse:0.303917\n",
      "[81]\tvalidation_0-rmse:0.258844\tvalidation_1-rmse:0.303901\n",
      "[82]\tvalidation_0-rmse:0.258226\tvalidation_1-rmse:0.30372\n",
      "[83]\tvalidation_0-rmse:0.257984\tvalidation_1-rmse:0.30363\n",
      "[84]\tvalidation_0-rmse:0.256832\tvalidation_1-rmse:0.302727\n",
      "[85]\tvalidation_0-rmse:0.256558\tvalidation_1-rmse:0.302742\n",
      "[86]\tvalidation_0-rmse:0.255689\tvalidation_1-rmse:0.302466\n",
      "[87]\tvalidation_0-rmse:0.255257\tvalidation_1-rmse:0.302423\n",
      "[88]\tvalidation_0-rmse:0.254588\tvalidation_1-rmse:0.302068\n",
      "[89]\tvalidation_0-rmse:0.254426\tvalidation_1-rmse:0.301899\n",
      "[90]\tvalidation_0-rmse:0.254211\tvalidation_1-rmse:0.301837\n",
      "[91]\tvalidation_0-rmse:0.253917\tvalidation_1-rmse:0.301771\n",
      "[92]\tvalidation_0-rmse:0.253447\tvalidation_1-rmse:0.301806\n",
      "[93]\tvalidation_0-rmse:0.25284\tvalidation_1-rmse:0.301747\n",
      "[94]\tvalidation_0-rmse:0.252349\tvalidation_1-rmse:0.301461\n",
      "[95]\tvalidation_0-rmse:0.251263\tvalidation_1-rmse:0.30077\n",
      "[96]\tvalidation_0-rmse:0.250945\tvalidation_1-rmse:0.300593\n",
      "[97]\tvalidation_0-rmse:0.25069\tvalidation_1-rmse:0.300399\n",
      "[98]\tvalidation_0-rmse:0.250492\tvalidation_1-rmse:0.300367\n",
      "[99]\tvalidation_0-rmse:0.250196\tvalidation_1-rmse:0.300494\n",
      "[100]\tvalidation_0-rmse:0.250099\tvalidation_1-rmse:0.300443\n",
      "[101]\tvalidation_0-rmse:0.24945\tvalidation_1-rmse:0.300362\n",
      "[102]\tvalidation_0-rmse:0.248097\tvalidation_1-rmse:0.299084\n",
      "[103]\tvalidation_0-rmse:0.247433\tvalidation_1-rmse:0.298631\n",
      "[104]\tvalidation_0-rmse:0.247085\tvalidation_1-rmse:0.298588\n",
      "[105]\tvalidation_0-rmse:0.246871\tvalidation_1-rmse:0.298528\n",
      "[106]\tvalidation_0-rmse:0.246665\tvalidation_1-rmse:0.298554\n",
      "[107]\tvalidation_0-rmse:0.246021\tvalidation_1-rmse:0.298145\n",
      "[108]\tvalidation_0-rmse:0.245452\tvalidation_1-rmse:0.298043\n",
      "[109]\tvalidation_0-rmse:0.244654\tvalidation_1-rmse:0.297616\n",
      "[110]\tvalidation_0-rmse:0.244272\tvalidation_1-rmse:0.297581\n",
      "[111]\tvalidation_0-rmse:0.244098\tvalidation_1-rmse:0.297522\n",
      "[112]\tvalidation_0-rmse:0.243913\tvalidation_1-rmse:0.297443\n",
      "[113]\tvalidation_0-rmse:0.243745\tvalidation_1-rmse:0.29743\n",
      "[114]\tvalidation_0-rmse:0.243069\tvalidation_1-rmse:0.297359\n",
      "[115]\tvalidation_0-rmse:0.242678\tvalidation_1-rmse:0.297147\n",
      "[116]\tvalidation_0-rmse:0.242224\tvalidation_1-rmse:0.297179\n",
      "[117]\tvalidation_0-rmse:0.241503\tvalidation_1-rmse:0.296781\n",
      "[118]\tvalidation_0-rmse:0.241311\tvalidation_1-rmse:0.296746\n",
      "[119]\tvalidation_0-rmse:0.24078\tvalidation_1-rmse:0.296668\n",
      "[120]\tvalidation_0-rmse:0.240303\tvalidation_1-rmse:0.296767\n",
      "[121]\tvalidation_0-rmse:0.239834\tvalidation_1-rmse:0.296684\n",
      "[122]\tvalidation_0-rmse:0.239746\tvalidation_1-rmse:0.296632\n",
      "[123]\tvalidation_0-rmse:0.239534\tvalidation_1-rmse:0.296742\n",
      "[124]\tvalidation_0-rmse:0.239215\tvalidation_1-rmse:0.296703\n",
      "[125]\tvalidation_0-rmse:0.238898\tvalidation_1-rmse:0.296489\n",
      "[126]\tvalidation_0-rmse:0.238471\tvalidation_1-rmse:0.296418\n",
      "[127]\tvalidation_0-rmse:0.238093\tvalidation_1-rmse:0.296621\n",
      "[128]\tvalidation_0-rmse:0.237521\tvalidation_1-rmse:0.296287\n",
      "[129]\tvalidation_0-rmse:0.237265\tvalidation_1-rmse:0.296347\n",
      "[130]\tvalidation_0-rmse:0.236958\tvalidation_1-rmse:0.2964\n",
      "[131]\tvalidation_0-rmse:0.236793\tvalidation_1-rmse:0.296452\n",
      "[132]\tvalidation_0-rmse:0.23661\tvalidation_1-rmse:0.296398\n",
      "[133]\tvalidation_0-rmse:0.236457\tvalidation_1-rmse:0.296348\n",
      "[134]\tvalidation_0-rmse:0.236331\tvalidation_1-rmse:0.296366\n",
      "[135]\tvalidation_0-rmse:0.235679\tvalidation_1-rmse:0.295905\n",
      "[136]\tvalidation_0-rmse:0.235614\tvalidation_1-rmse:0.2959\n",
      "[137]\tvalidation_0-rmse:0.234663\tvalidation_1-rmse:0.295356\n",
      "[138]\tvalidation_0-rmse:0.234218\tvalidation_1-rmse:0.295025\n",
      "[139]\tvalidation_0-rmse:0.234107\tvalidation_1-rmse:0.295078\n",
      "[140]\tvalidation_0-rmse:0.233654\tvalidation_1-rmse:0.294824\n",
      "[141]\tvalidation_0-rmse:0.233536\tvalidation_1-rmse:0.294763\n",
      "[142]\tvalidation_0-rmse:0.233389\tvalidation_1-rmse:0.294753\n",
      "[143]\tvalidation_0-rmse:0.233145\tvalidation_1-rmse:0.294803\n",
      "[144]\tvalidation_0-rmse:0.232765\tvalidation_1-rmse:0.294797\n",
      "[145]\tvalidation_0-rmse:0.232507\tvalidation_1-rmse:0.294733\n",
      "[146]\tvalidation_0-rmse:0.232199\tvalidation_1-rmse:0.294765\n",
      "[147]\tvalidation_0-rmse:0.232045\tvalidation_1-rmse:0.294823\n",
      "[148]\tvalidation_0-rmse:0.231649\tvalidation_1-rmse:0.294617\n",
      "[149]\tvalidation_0-rmse:0.231253\tvalidation_1-rmse:0.29471\n"
     ]
    }
   ],
   "source": [
    "## Aprroximation target variable by training on train data\n",
    "regressor.fit(X_train,y_train, eval_set = [(X_train, y_train), (X_validation, y_validation)]);"
   ]
  },
  {
   "cell_type": "code",
   "execution_count": 79,
   "metadata": {
    "colab": {
     "base_uri": "https://localhost:8080/",
     "height": 170
    },
    "colab_type": "code",
    "executionInfo": {
     "elapsed": 4017,
     "status": "ok",
     "timestamp": 1591154252598,
     "user": {
      "displayName": "Robins Yadav",
      "photoUrl": "",
      "userId": "09341548175987336254"
     },
     "user_tz": 420
    },
    "id": "RV-AFBcLIXmE",
    "outputId": "4873b164-2f88-456d-8163-80fceca31841"
   },
   "outputs": [
    {
     "data": {
      "text/plain": [
       "count    7620.000000\n",
       "mean        4.583886\n",
       "std         1.429959\n",
       "min         0.693147\n",
       "25%         3.737670\n",
       "50%         4.976734\n",
       "75%         5.652489\n",
       "max         6.885510\n",
       "Name: count, dtype: float64"
      ]
     },
     "execution_count": 79,
     "metadata": {
      "tags": []
     },
     "output_type": "execute_result"
    }
   ],
   "source": [
    "\n",
    "## Summary statistics of target variable\n",
    "df_train['count'].describe()"
   ]
  },
  {
   "cell_type": "code",
   "execution_count": 0,
   "metadata": {
    "colab": {},
    "colab_type": "code",
    "id": "AizqvgQzIeLj"
   },
   "outputs": [],
   "source": [
    "## Result after training on train set\n",
    "eval_result = regressor.evals_result()\n",
    "# print(eval_result)"
   ]
  },
  {
   "cell_type": "code",
   "execution_count": 81,
   "metadata": {
    "colab": {
     "base_uri": "https://localhost:8080/",
     "height": 404
    },
    "colab_type": "code",
    "executionInfo": {
     "elapsed": 4262,
     "status": "ok",
     "timestamp": 1591154252883,
     "user": {
      "displayName": "Robins Yadav",
      "photoUrl": "",
      "userId": "09341548175987336254"
     },
     "user_tz": 420
    },
    "id": "FZWFvFvNIhoW",
    "outputId": "02d0a12e-c9fa-4dda-d135-cc376ad836de"
   },
   "outputs": [
    {
     "data": {
      "image/png": "[encoded data removed]",
      "text/plain": [
       "<Figure size 648x432 with 1 Axes>"
      ]
     },
     "metadata": {
      "needs_background": "light",
      "tags": []
     },
     "output_type": "display_data"
    }
   ],
   "source": [
    "### Plotting \"training error\" vs. \"validation error\" -- to check model performance\n",
    "## No.of Iterations\n",
    "training_rounds = range(len(eval_result['validation_0']['rmse']))\n",
    "\n",
    "## plot\n",
    "plt.figure(figsize=(9,6))\n",
    "plt.scatter(x=training_rounds, y=eval_result['validation_0']['rmse'], label='Training Error')\n",
    "plt.scatter(x=training_rounds, y=eval_result['validation_1']['rmse'], label='Validation Error')\n",
    "plt.grid(True)\n",
    "plt.xlabel('Iteration')\n",
    "plt.ylabel('RMSE')\n",
    "plt.title('Training Vs Validation Error')\n",
    "plt.legend()\n",
    "plt.show()"
   ]
  },
  {
   "cell_type": "code",
   "execution_count": 82,
   "metadata": {
    "colab": {
     "base_uri": "https://localhost:8080/",
     "height": 295
    },
    "colab_type": "code",
    "executionInfo": {
     "elapsed": 4148,
     "status": "ok",
     "timestamp": 1591154252885,
     "user": {
      "displayName": "Robins Yadav",
      "photoUrl": "",
      "userId": "09341548175987336254"
     },
     "user_tz": 420
    },
    "id": "oB6gtrF6Ikt1",
    "outputId": "a9a19d13-f5b7-4b07-f37c-5d21335d6cf5"
   },
   "outputs": [
    {
     "data": {
      "image/png": "[encoded data removed]",
      "text/plain": [
       "<Figure size 432x288 with 1 Axes>"
      ]
     },
     "metadata": {
      "needs_background": "light",
      "tags": []
     },
     "output_type": "display_data"
    }
   ],
   "source": [
    "## Feature importance\n",
    "xgb.plot_importance(regressor)\n",
    "plt.show()\n",
    "\n",
    "## Note: \"hour is the most important features\", also \n",
    "# \"component_0\", \"component_1\", , \"component_2\", \"day\" plays important role"
   ]
  },
  {
   "cell_type": "markdown",
   "metadata": {
    "colab_type": "text",
    "id": "k67qGAaCI5UH"
   },
   "source": [
    "### Prediction validation dataset --- test for this case"
   ]
  },
  {
   "cell_type": "code",
   "execution_count": 83,
   "metadata": {
    "colab": {
     "base_uri": "https://localhost:8080/",
     "height": 204
    },
    "colab_type": "code",
    "executionInfo": {
     "elapsed": 4428,
     "status": "ok",
     "timestamp": 1591154253178,
     "user": {
      "displayName": "Robins Yadav",
      "photoUrl": "",
      "userId": "09341548175987336254"
     },
     "user_tz": 420
    },
    "id": "pxTFcrITIsoX",
    "outputId": "16ce8f56-987f-44c2-b9d1-ec11cce3a8b1"
   },
   "outputs": [
    {
     "data": {
      "text/html": [
       "<div>\n",
       "<style scoped>\n",
       "    .dataframe tbody tr th:only-of-type {\n",
       "        vertical-align: middle;\n",
       "    }\n",
       "\n",
       "    .dataframe tbody tr th {\n",
       "        vertical-align: top;\n",
       "    }\n",
       "\n",
       "    .dataframe thead th {\n",
       "        text-align: right;\n",
       "    }\n",
       "</style>\n",
       "<table border=\"1\" class=\"dataframe\">\n",
       "  <thead>\n",
       "    <tr style=\"text-align: right;\">\n",
       "      <th></th>\n",
       "      <th>count</th>\n",
       "      <th>season</th>\n",
       "      <th>holiday</th>\n",
       "      <th>workingday</th>\n",
       "      <th>weather</th>\n",
       "      <th>year</th>\n",
       "      <th>month</th>\n",
       "      <th>day</th>\n",
       "      <th>dayofweek</th>\n",
       "      <th>hour</th>\n",
       "      <th>component_0</th>\n",
       "      <th>component_1</th>\n",
       "      <th>component_2</th>\n",
       "    </tr>\n",
       "  </thead>\n",
       "  <tbody>\n",
       "    <tr>\n",
       "      <th>0</th>\n",
       "      <td>6.095825</td>\n",
       "      <td>3</td>\n",
       "      <td>0</td>\n",
       "      <td>1</td>\n",
       "      <td>2</td>\n",
       "      <td>2011</td>\n",
       "      <td>7</td>\n",
       "      <td>7</td>\n",
       "      <td>3</td>\n",
       "      <td>8</td>\n",
       "      <td>1.511799</td>\n",
       "      <td>-0.648078</td>\n",
       "      <td>0.755707</td>\n",
       "    </tr>\n",
       "    <tr>\n",
       "      <th>1</th>\n",
       "      <td>5.961005</td>\n",
       "      <td>2</td>\n",
       "      <td>0</td>\n",
       "      <td>0</td>\n",
       "      <td>1</td>\n",
       "      <td>2011</td>\n",
       "      <td>6</td>\n",
       "      <td>11</td>\n",
       "      <td>5</td>\n",
       "      <td>13</td>\n",
       "      <td>2.344418</td>\n",
       "      <td>0.211416</td>\n",
       "      <td>-0.073554</td>\n",
       "    </tr>\n",
       "    <tr>\n",
       "      <th>2</th>\n",
       "      <td>1.098612</td>\n",
       "      <td>1</td>\n",
       "      <td>0</td>\n",
       "      <td>1</td>\n",
       "      <td>1</td>\n",
       "      <td>2011</td>\n",
       "      <td>2</td>\n",
       "      <td>14</td>\n",
       "      <td>0</td>\n",
       "      <td>2</td>\n",
       "      <td>-1.029108</td>\n",
       "      <td>1.454607</td>\n",
       "      <td>-0.258043</td>\n",
       "    </tr>\n",
       "    <tr>\n",
       "      <th>3</th>\n",
       "      <td>3.891820</td>\n",
       "      <td>1</td>\n",
       "      <td>0</td>\n",
       "      <td>1</td>\n",
       "      <td>1</td>\n",
       "      <td>2011</td>\n",
       "      <td>2</td>\n",
       "      <td>8</td>\n",
       "      <td>1</td>\n",
       "      <td>10</td>\n",
       "      <td>-2.270060</td>\n",
       "      <td>2.706229</td>\n",
       "      <td>1.384771</td>\n",
       "    </tr>\n",
       "    <tr>\n",
       "      <th>4</th>\n",
       "      <td>4.025352</td>\n",
       "      <td>4</td>\n",
       "      <td>0</td>\n",
       "      <td>0</td>\n",
       "      <td>1</td>\n",
       "      <td>2011</td>\n",
       "      <td>12</td>\n",
       "      <td>4</td>\n",
       "      <td>6</td>\n",
       "      <td>8</td>\n",
       "      <td>-1.610871</td>\n",
       "      <td>-1.996173</td>\n",
       "      <td>-0.293018</td>\n",
       "    </tr>\n",
       "  </tbody>\n",
       "</table>\n",
       "</div>"
      ],
      "text/plain": [
       "      count  season  holiday  ...  component_0  component_1  component_2\n",
       "0  6.095825       3        0  ...     1.511799    -0.648078     0.755707\n",
       "1  5.961005       2        0  ...     2.344418     0.211416    -0.073554\n",
       "2  1.098612       1        0  ...    -1.029108     1.454607    -0.258043\n",
       "3  3.891820       1        0  ...    -2.270060     2.706229     1.384771\n",
       "4  4.025352       4        0  ...    -1.610871    -1.996173    -0.293018\n",
       "\n",
       "[5 rows x 13 columns]"
      ]
     },
     "execution_count": 83,
     "metadata": {
      "tags": []
     },
     "output_type": "execute_result"
    }
   ],
   "source": [
    "# Updated - Changed to validation dataset\n",
    "# Compare actual vs predicted performance with dataset not seen by the model before\n",
    "df_test = pd.read_csv(\"rob_bike_validation_pca.csv\", names=columns)\n",
    "df_test.head()"
   ]
  },
  {
   "cell_type": "code",
   "execution_count": 84,
   "metadata": {
    "colab": {
     "base_uri": "https://localhost:8080/",
     "height": 204
    },
    "colab_type": "code",
    "executionInfo": {
     "elapsed": 4419,
     "status": "ok",
     "timestamp": 1591154253182,
     "user": {
      "displayName": "Robins Yadav",
      "photoUrl": "",
      "userId": "09341548175987336254"
     },
     "user_tz": 420
    },
    "id": "jaC5xZ6hI_tR",
    "outputId": "c1fff8fb-50fa-4781-e68a-382780d9c248"
   },
   "outputs": [
    {
     "data": {
      "text/html": [
       "<div>\n",
       "<style scoped>\n",
       "    .dataframe tbody tr th:only-of-type {\n",
       "        vertical-align: middle;\n",
       "    }\n",
       "\n",
       "    .dataframe tbody tr th {\n",
       "        vertical-align: top;\n",
       "    }\n",
       "\n",
       "    .dataframe thead th {\n",
       "        text-align: right;\n",
       "    }\n",
       "</style>\n",
       "<table border=\"1\" class=\"dataframe\">\n",
       "  <thead>\n",
       "    <tr style=\"text-align: right;\">\n",
       "      <th></th>\n",
       "      <th>season</th>\n",
       "      <th>holiday</th>\n",
       "      <th>workingday</th>\n",
       "      <th>weather</th>\n",
       "      <th>year</th>\n",
       "      <th>month</th>\n",
       "      <th>day</th>\n",
       "      <th>dayofweek</th>\n",
       "      <th>hour</th>\n",
       "      <th>component_0</th>\n",
       "      <th>component_1</th>\n",
       "      <th>component_2</th>\n",
       "    </tr>\n",
       "  </thead>\n",
       "  <tbody>\n",
       "    <tr>\n",
       "      <th>0</th>\n",
       "      <td>3</td>\n",
       "      <td>0</td>\n",
       "      <td>1</td>\n",
       "      <td>2</td>\n",
       "      <td>2011</td>\n",
       "      <td>7</td>\n",
       "      <td>7</td>\n",
       "      <td>3</td>\n",
       "      <td>8</td>\n",
       "      <td>1.511799</td>\n",
       "      <td>-0.648078</td>\n",
       "      <td>0.755707</td>\n",
       "    </tr>\n",
       "    <tr>\n",
       "      <th>1</th>\n",
       "      <td>2</td>\n",
       "      <td>0</td>\n",
       "      <td>0</td>\n",
       "      <td>1</td>\n",
       "      <td>2011</td>\n",
       "      <td>6</td>\n",
       "      <td>11</td>\n",
       "      <td>5</td>\n",
       "      <td>13</td>\n",
       "      <td>2.344418</td>\n",
       "      <td>0.211416</td>\n",
       "      <td>-0.073554</td>\n",
       "    </tr>\n",
       "    <tr>\n",
       "      <th>2</th>\n",
       "      <td>1</td>\n",
       "      <td>0</td>\n",
       "      <td>1</td>\n",
       "      <td>1</td>\n",
       "      <td>2011</td>\n",
       "      <td>2</td>\n",
       "      <td>14</td>\n",
       "      <td>0</td>\n",
       "      <td>2</td>\n",
       "      <td>-1.029108</td>\n",
       "      <td>1.454607</td>\n",
       "      <td>-0.258043</td>\n",
       "    </tr>\n",
       "    <tr>\n",
       "      <th>3</th>\n",
       "      <td>1</td>\n",
       "      <td>0</td>\n",
       "      <td>1</td>\n",
       "      <td>1</td>\n",
       "      <td>2011</td>\n",
       "      <td>2</td>\n",
       "      <td>8</td>\n",
       "      <td>1</td>\n",
       "      <td>10</td>\n",
       "      <td>-2.270060</td>\n",
       "      <td>2.706229</td>\n",
       "      <td>1.384771</td>\n",
       "    </tr>\n",
       "    <tr>\n",
       "      <th>4</th>\n",
       "      <td>4</td>\n",
       "      <td>0</td>\n",
       "      <td>0</td>\n",
       "      <td>1</td>\n",
       "      <td>2011</td>\n",
       "      <td>12</td>\n",
       "      <td>4</td>\n",
       "      <td>6</td>\n",
       "      <td>8</td>\n",
       "      <td>-1.610871</td>\n",
       "      <td>-1.996173</td>\n",
       "      <td>-0.293018</td>\n",
       "    </tr>\n",
       "  </tbody>\n",
       "</table>\n",
       "</div>"
      ],
      "text/plain": [
       "   season  holiday  workingday  ...  component_0  component_1  component_2\n",
       "0       3        0           1  ...     1.511799    -0.648078     0.755707\n",
       "1       2        0           0  ...     2.344418     0.211416    -0.073554\n",
       "2       1        0           1  ...    -1.029108     1.454607    -0.258043\n",
       "3       1        0           1  ...    -2.270060     2.706229     1.384771\n",
       "4       4        0           0  ...    -1.610871    -1.996173    -0.293018\n",
       "\n",
       "[5 rows x 12 columns]"
      ]
     },
     "execution_count": 84,
     "metadata": {
      "tags": []
     },
     "output_type": "execute_result"
    }
   ],
   "source": [
    "## Input features from validation dataset \n",
    "# \n",
    "X_test = df_test.iloc[:,1:] ## This features will be feed into trained model to predict bike rental count\n",
    "X_test.head()"
   ]
  },
  {
   "cell_type": "code",
   "execution_count": 85,
   "metadata": {
    "colab": {
     "base_uri": "https://localhost:8080/",
     "height": 51
    },
    "colab_type": "code",
    "executionInfo": {
     "elapsed": 4406,
     "status": "ok",
     "timestamp": 1591154253184,
     "user": {
      "displayName": "Robins Yadav",
      "photoUrl": "",
      "userId": "09341548175987336254"
     },
     "user_tz": 420
    },
    "id": "-79pHf8PJDfu",
    "outputId": "44f41c97-b353-4774-dfe1-ce0af467fcdc"
   },
   "outputs": [
    {
     "data": {
      "text/plain": [
       "array([6.025612 , 5.9655213, 1.4047153, 3.899988 , 4.3134074],\n",
       "      dtype=float32)"
      ]
     },
     "execution_count": 85,
     "metadata": {
      "tags": []
     },
     "output_type": "execute_result"
    }
   ],
   "source": [
    "## Prediction on test data\n",
    "result = regressor.predict(X_test)\n",
    "result[:5]"
   ]
  },
  {
   "cell_type": "code",
   "execution_count": 86,
   "metadata": {
    "colab": {
     "base_uri": "https://localhost:8080/",
     "height": 224
    },
    "colab_type": "code",
    "executionInfo": {
     "elapsed": 4388,
     "status": "ok",
     "timestamp": 1591154253187,
     "user": {
      "displayName": "Robins Yadav",
      "photoUrl": "",
      "userId": "09341548175987336254"
     },
     "user_tz": 420
    },
    "id": "JU9A15GGJHq7",
    "outputId": "cdb64521-57fa-4d74-b32f-94bbcef685bc"
   },
   "outputs": [
    {
     "data": {
      "text/html": [
       "<div>\n",
       "<style scoped>\n",
       "    .dataframe tbody tr th:only-of-type {\n",
       "        vertical-align: middle;\n",
       "    }\n",
       "\n",
       "    .dataframe tbody tr th {\n",
       "        vertical-align: top;\n",
       "    }\n",
       "\n",
       "    .dataframe thead th {\n",
       "        text-align: right;\n",
       "    }\n",
       "</style>\n",
       "<table border=\"1\" class=\"dataframe\">\n",
       "  <thead>\n",
       "    <tr style=\"text-align: right;\">\n",
       "      <th></th>\n",
       "      <th>count</th>\n",
       "      <th>season</th>\n",
       "      <th>holiday</th>\n",
       "      <th>workingday</th>\n",
       "      <th>weather</th>\n",
       "      <th>year</th>\n",
       "      <th>month</th>\n",
       "      <th>day</th>\n",
       "      <th>dayofweek</th>\n",
       "      <th>hour</th>\n",
       "      <th>component_0</th>\n",
       "      <th>component_1</th>\n",
       "      <th>component_2</th>\n",
       "      <th>pred_count</th>\n",
       "    </tr>\n",
       "  </thead>\n",
       "  <tbody>\n",
       "    <tr>\n",
       "      <th>0</th>\n",
       "      <td>6.095825</td>\n",
       "      <td>3</td>\n",
       "      <td>0</td>\n",
       "      <td>1</td>\n",
       "      <td>2</td>\n",
       "      <td>2011</td>\n",
       "      <td>7</td>\n",
       "      <td>7</td>\n",
       "      <td>3</td>\n",
       "      <td>8</td>\n",
       "      <td>1.511799</td>\n",
       "      <td>-0.648078</td>\n",
       "      <td>0.755707</td>\n",
       "      <td>6.025612</td>\n",
       "    </tr>\n",
       "    <tr>\n",
       "      <th>1</th>\n",
       "      <td>5.961005</td>\n",
       "      <td>2</td>\n",
       "      <td>0</td>\n",
       "      <td>0</td>\n",
       "      <td>1</td>\n",
       "      <td>2011</td>\n",
       "      <td>6</td>\n",
       "      <td>11</td>\n",
       "      <td>5</td>\n",
       "      <td>13</td>\n",
       "      <td>2.344418</td>\n",
       "      <td>0.211416</td>\n",
       "      <td>-0.073554</td>\n",
       "      <td>5.965521</td>\n",
       "    </tr>\n",
       "    <tr>\n",
       "      <th>2</th>\n",
       "      <td>1.098612</td>\n",
       "      <td>1</td>\n",
       "      <td>0</td>\n",
       "      <td>1</td>\n",
       "      <td>1</td>\n",
       "      <td>2011</td>\n",
       "      <td>2</td>\n",
       "      <td>14</td>\n",
       "      <td>0</td>\n",
       "      <td>2</td>\n",
       "      <td>-1.029108</td>\n",
       "      <td>1.454607</td>\n",
       "      <td>-0.258043</td>\n",
       "      <td>1.404715</td>\n",
       "    </tr>\n",
       "    <tr>\n",
       "      <th>3</th>\n",
       "      <td>3.891820</td>\n",
       "      <td>1</td>\n",
       "      <td>0</td>\n",
       "      <td>1</td>\n",
       "      <td>1</td>\n",
       "      <td>2011</td>\n",
       "      <td>2</td>\n",
       "      <td>8</td>\n",
       "      <td>1</td>\n",
       "      <td>10</td>\n",
       "      <td>-2.270060</td>\n",
       "      <td>2.706229</td>\n",
       "      <td>1.384771</td>\n",
       "      <td>3.899988</td>\n",
       "    </tr>\n",
       "    <tr>\n",
       "      <th>4</th>\n",
       "      <td>4.025352</td>\n",
       "      <td>4</td>\n",
       "      <td>0</td>\n",
       "      <td>0</td>\n",
       "      <td>1</td>\n",
       "      <td>2011</td>\n",
       "      <td>12</td>\n",
       "      <td>4</td>\n",
       "      <td>6</td>\n",
       "      <td>8</td>\n",
       "      <td>-1.610871</td>\n",
       "      <td>-1.996173</td>\n",
       "      <td>-0.293018</td>\n",
       "      <td>4.313407</td>\n",
       "    </tr>\n",
       "  </tbody>\n",
       "</table>\n",
       "</div>"
      ],
      "text/plain": [
       "      count  season  holiday  ...  component_1  component_2  pred_count\n",
       "0  6.095825       3        0  ...    -0.648078     0.755707    6.025612\n",
       "1  5.961005       2        0  ...     0.211416    -0.073554    5.965521\n",
       "2  1.098612       1        0  ...     1.454607    -0.258043    1.404715\n",
       "3  3.891820       1        0  ...     2.706229     1.384771    3.899988\n",
       "4  4.025352       4        0  ...    -1.996173    -0.293018    4.313407\n",
       "\n",
       "[5 rows x 14 columns]"
      ]
     },
     "execution_count": 86,
     "metadata": {
      "tags": []
     },
     "output_type": "execute_result"
    }
   ],
   "source": [
    "## Let's add predicted count column to the test dataframe\n",
    "df_test['pred_count'] = result\n",
    "\n",
    "## check test data now\n",
    "df_test.head()"
   ]
  },
  {
   "cell_type": "code",
   "execution_count": 0,
   "metadata": {
    "colab": {},
    "colab_type": "code",
    "id": "p8HPIF1LJLRY"
   },
   "outputs": [],
   "source": [
    "## Inverse the log transformation to get the exact bike rental\n",
    "df_test['count'] = df_test['count'].map(np.expm1)\n",
    "df_test['pred_count'] = df_test['pred_count'].map(np.expm1)"
   ]
  },
  {
   "cell_type": "code",
   "execution_count": 88,
   "metadata": {
    "colab": {
     "base_uri": "https://localhost:8080/",
     "height": 170
    },
    "colab_type": "code",
    "executionInfo": {
     "elapsed": 4358,
     "status": "ok",
     "timestamp": 1591154253195,
     "user": {
      "displayName": "Robins Yadav",
      "photoUrl": "",
      "userId": "09341548175987336254"
     },
     "user_tz": 420
    },
    "id": "eFRUpDT-JPu3",
    "outputId": "13d2e2dd-affa-4c7b-ff04-5762c81ebfe1"
   },
   "outputs": [
    {
     "data": {
      "text/plain": [
       "count    3266.000000\n",
       "mean      184.084678\n",
       "std       168.115052\n",
       "min         1.027269\n",
       "25%        43.151091\n",
       "50%       146.400895\n",
       "75%       269.098638\n",
       "max       886.451543\n",
       "Name: pred_count, dtype: float64"
      ]
     },
     "execution_count": 88,
     "metadata": {
      "tags": []
     },
     "output_type": "execute_result"
    }
   ],
   "source": [
    "\n",
    "# Summary Statistics of predicted bike rental counts\n",
    "df_test['pred_count'].describe()"
   ]
  },
  {
   "cell_type": "code",
   "execution_count": 89,
   "metadata": {
    "colab": {
     "base_uri": "https://localhost:8080/",
     "height": 295
    },
    "colab_type": "code",
    "executionInfo": {
     "elapsed": 4702,
     "status": "ok",
     "timestamp": 1591154253560,
     "user": {
      "displayName": "Robins Yadav",
      "photoUrl": "",
      "userId": "09341548175987336254"
     },
     "user_tz": 420
    },
    "id": "8GFGrTfTJScW",
    "outputId": "1ddeef14-28f0-41ae-f356-25e1fe9ebf5f"
   },
   "outputs": [
    {
     "data": {
      "image/png": "[encoded data removed]",
      "text/plain": [
       "<Figure size 432x288 with 1 Axes>"
      ]
     },
     "metadata": {
      "needs_background": "light",
      "tags": []
     },
     "output_type": "display_data"
    }
   ],
   "source": [
    "# Actual Vs Predicted\n",
    "plt.plot(df_test['count'], label='Actual')\n",
    "plt.plot(df_test['pred_count'],label='Predicted')\n",
    "plt.xlabel('Sample')\n",
    "plt.ylabel('Count')\n",
    "plt.xlim([100,150])\n",
    "plt.title('Validation Dataset - Predicted Vs. Actual')\n",
    "plt.legend()\n",
    "plt.show()"
   ]
  },
  {
   "cell_type": "code",
   "execution_count": 90,
   "metadata": {
    "colab": {
     "base_uri": "https://localhost:8080/",
     "height": 295
    },
    "colab_type": "code",
    "executionInfo": {
     "elapsed": 4958,
     "status": "ok",
     "timestamp": 1591154253837,
     "user": {
      "displayName": "Robins Yadav",
      "photoUrl": "",
      "userId": "09341548175987336254"
     },
     "user_tz": 420
    },
    "id": "j47LTb2ZJVNw",
    "outputId": "4e255a9f-5de5-4fc5-d979-7a5d7c6e3b35"
   },
   "outputs": [
    {
     "data": {
      "image/png": "[encoded data removed]",
      "text/plain": [
       "<Figure size 432x288 with 1 Axes>"
      ]
     },
     "metadata": {
      "needs_background": "light",
      "tags": []
     },
     "output_type": "display_data"
    }
   ],
   "source": [
    "# Over prediction and Under Prediction needs to be balanced\n",
    "# Training Data Residuals\n",
    "residuals = (df_test['count'] - df_test['pred_count'])\n",
    "\n",
    "plt.hist(residuals)\n",
    "plt.grid(True)\n",
    "plt.xlabel('Actual - Predicted')\n",
    "plt.ylabel('Count')\n",
    "plt.title('Residuals Distribution')\n",
    "plt.axvline(color='r')\n",
    "plt.show()"
   ]
  },
  {
   "cell_type": "code",
   "execution_count": 91,
   "metadata": {
    "colab": {
     "base_uri": "https://localhost:8080/",
     "height": 51
    },
    "colab_type": "code",
    "executionInfo": {
     "elapsed": 4944,
     "status": "ok",
     "timestamp": 1591154253841,
     "user": {
      "displayName": "Robins Yadav",
      "photoUrl": "",
      "userId": "09341548175987336254"
     },
     "user_tz": 420
    },
    "id": "YVydAqpWJX6U",
    "outputId": "c0e173d8-8151-41f7-e89e-4b525575edf1"
   },
   "outputs": [
    {
     "name": "stdout",
     "output_type": "stream",
     "text": [
      " Under Estimation: 0.54\n",
      " Over  Estimation: 0.46\n"
     ]
    }
   ],
   "source": [
    "value_counts = (residuals > 0).value_counts(sort=False)\n",
    "print(' Under Estimation: {0:.2f}'.format(value_counts[True]/len(residuals)))\n",
    "print(' Over  Estimation: {0:.2f}'.format(value_counts[False]/len(residuals)))"
   ]
  },
  {
   "cell_type": "code",
   "execution_count": 92,
   "metadata": {
    "colab": {
     "base_uri": "https://localhost:8080/",
     "height": 34
    },
    "colab_type": "code",
    "executionInfo": {
     "elapsed": 4931,
     "status": "ok",
     "timestamp": 1591154253844,
     "user": {
      "displayName": "Robins Yadav",
      "photoUrl": "",
      "userId": "09341548175987336254"
     },
     "user_tz": 420
    },
    "id": "VMsMtykcKAG-",
    "outputId": "fd0a5872-e750-4fe9-baa0-32410592f0c6"
   },
   "outputs": [
    {
     "name": "stdout",
     "output_type": "stream",
     "text": [
      "RMSE: 45.75\n"
     ]
    }
   ],
   "source": [
    "### Model Evaluation\n",
    "import sklearn.metrics as metrics\n",
    "print(\"RMSE: {0:.2f}\".format(metrics.mean_squared_error(df_test['count'],\n",
    "                                                    df_test['pred_count'])**.5))"
   ]
  },
  {
   "cell_type": "code",
   "execution_count": 93,
   "metadata": {
    "colab": {
     "base_uri": "https://localhost:8080/",
     "height": 34
    },
    "colab_type": "code",
    "executionInfo": {
     "elapsed": 4917,
     "status": "ok",
     "timestamp": 1591154253847,
     "user": {
      "displayName": "Robins Yadav",
      "photoUrl": "",
      "userId": "09341548175987336254"
     },
     "user_tz": 420
    },
    "id": "aFxy9sdnKIAe",
    "outputId": "8bb29d94-b0b4-4650-ec09-fd8ff312ed25"
   },
   "outputs": [
    {
     "name": "stdout",
     "output_type": "stream",
     "text": [
      "RMSLE: 0.29\n"
     ]
    }
   ],
   "source": [
    "# Metric Use By Kaggle\n",
    "def compute_rmsle(y_true, y_pred):\n",
    "    if type(y_true) != np.ndarray:\n",
    "        y_true = np.array(y_true)\n",
    "        \n",
    "    if type(y_pred) != np.ndarray:\n",
    "        y_pred = np.array(y_pred)\n",
    "     \n",
    "    return(np.average((np.log1p(y_pred) - np.log1p(y_true))**2)**.5)\n",
    "\n",
    "print(\"RMSLE: {0:.2f}\".format(compute_rmsle(df_test['count'], df_test['pred_count'])))"
   ]
  },
  {
   "cell_type": "code",
   "execution_count": 0,
   "metadata": {
    "colab": {},
    "colab_type": "code",
    "id": "Z8r9zPboKNel"
   },
   "outputs": [],
   "source": []
  },
  {
   "cell_type": "markdown",
   "metadata": {
    "colab_type": "text",
    "id": "ChBnd1GjKRUQ"
   },
   "source": [
    "### Prepare Data for Submission to Kaggle"
   ]
  },
  {
   "cell_type": "code",
   "execution_count": 94,
   "metadata": {
    "colab": {
     "base_uri": "https://localhost:8080/",
     "height": 204
    },
    "colab_type": "code",
    "executionInfo": {
     "elapsed": 4894,
     "status": "ok",
     "timestamp": 1591154253852,
     "user": {
      "displayName": "Robins Yadav",
      "photoUrl": "",
      "userId": "09341548175987336254"
     },
     "user_tz": 420
    },
    "id": "C4aNPuWuKTWU",
    "outputId": "c8690f4f-80e4-4475-e92a-23c06a51ba4f"
   },
   "outputs": [
    {
     "data": {
      "text/html": [
       "<div>\n",
       "<style scoped>\n",
       "    .dataframe tbody tr th:only-of-type {\n",
       "        vertical-align: middle;\n",
       "    }\n",
       "\n",
       "    .dataframe tbody tr th {\n",
       "        vertical-align: top;\n",
       "    }\n",
       "\n",
       "    .dataframe thead th {\n",
       "        text-align: right;\n",
       "    }\n",
       "</style>\n",
       "<table border=\"1\" class=\"dataframe\">\n",
       "  <thead>\n",
       "    <tr style=\"text-align: right;\">\n",
       "      <th></th>\n",
       "      <th>datetime</th>\n",
       "      <th>season</th>\n",
       "      <th>holiday</th>\n",
       "      <th>workingday</th>\n",
       "      <th>weather</th>\n",
       "      <th>year</th>\n",
       "      <th>month</th>\n",
       "      <th>day</th>\n",
       "      <th>dayofweek</th>\n",
       "      <th>hour</th>\n",
       "      <th>component_0</th>\n",
       "      <th>component_1</th>\n",
       "      <th>component_2</th>\n",
       "    </tr>\n",
       "  </thead>\n",
       "  <tbody>\n",
       "    <tr>\n",
       "      <th>0</th>\n",
       "      <td>0</td>\n",
       "      <td>1</td>\n",
       "      <td>0</td>\n",
       "      <td>1</td>\n",
       "      <td>1</td>\n",
       "      <td>2011</td>\n",
       "      <td>1</td>\n",
       "      <td>20</td>\n",
       "      <td>3</td>\n",
       "      <td>0</td>\n",
       "      <td>-1.920363</td>\n",
       "      <td>1.412416</td>\n",
       "      <td>0.791086</td>\n",
       "    </tr>\n",
       "    <tr>\n",
       "      <th>1</th>\n",
       "      <td>1</td>\n",
       "      <td>1</td>\n",
       "      <td>0</td>\n",
       "      <td>1</td>\n",
       "      <td>1</td>\n",
       "      <td>2011</td>\n",
       "      <td>1</td>\n",
       "      <td>20</td>\n",
       "      <td>3</td>\n",
       "      <td>1</td>\n",
       "      <td>-1.629284</td>\n",
       "      <td>-0.856109</td>\n",
       "      <td>-1.439095</td>\n",
       "    </tr>\n",
       "    <tr>\n",
       "      <th>2</th>\n",
       "      <td>2</td>\n",
       "      <td>1</td>\n",
       "      <td>0</td>\n",
       "      <td>1</td>\n",
       "      <td>1</td>\n",
       "      <td>2011</td>\n",
       "      <td>1</td>\n",
       "      <td>20</td>\n",
       "      <td>3</td>\n",
       "      <td>2</td>\n",
       "      <td>-1.629284</td>\n",
       "      <td>-0.856109</td>\n",
       "      <td>-1.439095</td>\n",
       "    </tr>\n",
       "    <tr>\n",
       "      <th>3</th>\n",
       "      <td>3</td>\n",
       "      <td>1</td>\n",
       "      <td>0</td>\n",
       "      <td>1</td>\n",
       "      <td>1</td>\n",
       "      <td>2011</td>\n",
       "      <td>1</td>\n",
       "      <td>20</td>\n",
       "      <td>3</td>\n",
       "      <td>3</td>\n",
       "      <td>-1.735344</td>\n",
       "      <td>0.102855</td>\n",
       "      <td>-0.494568</td>\n",
       "    </tr>\n",
       "    <tr>\n",
       "      <th>4</th>\n",
       "      <td>4</td>\n",
       "      <td>1</td>\n",
       "      <td>0</td>\n",
       "      <td>1</td>\n",
       "      <td>1</td>\n",
       "      <td>2011</td>\n",
       "      <td>1</td>\n",
       "      <td>20</td>\n",
       "      <td>3</td>\n",
       "      <td>4</td>\n",
       "      <td>-1.735344</td>\n",
       "      <td>0.102855</td>\n",
       "      <td>-0.494568</td>\n",
       "    </tr>\n",
       "  </tbody>\n",
       "</table>\n",
       "</div>"
      ],
      "text/plain": [
       "  datetime  season  holiday  ...  component_0  component_1  component_2\n",
       "0        0       1        0  ...    -1.920363     1.412416     0.791086\n",
       "1        1       1        0  ...    -1.629284    -0.856109    -1.439095\n",
       "2        2       1        0  ...    -1.629284    -0.856109    -1.439095\n",
       "3        3       1        0  ...    -1.735344     0.102855    -0.494568\n",
       "4        4       1        0  ...    -1.735344     0.102855    -0.494568\n",
       "\n",
       "[5 rows x 13 columns]"
      ]
     },
     "execution_count": 94,
     "metadata": {
      "tags": []
     },
     "output_type": "execute_result"
    }
   ],
   "source": [
    "# Prepare Data for Submission to Kaggle\n",
    "df_org_test = pd.read_csv(\"rob_bike_test_pca.csv\", parse_dates=['datetime'])\n",
    "df_org_test.head()"
   ]
  },
  {
   "cell_type": "code",
   "execution_count": 95,
   "metadata": {
    "colab": {
     "base_uri": "https://localhost:8080/",
     "height": 204
    },
    "colab_type": "code",
    "executionInfo": {
     "elapsed": 4875,
     "status": "ok",
     "timestamp": 1591154253854,
     "user": {
      "displayName": "Robins Yadav",
      "photoUrl": "",
      "userId": "09341548175987336254"
     },
     "user_tz": 420
    },
    "id": "BGWh1uj5KWB1",
    "outputId": "f2325a14-79ce-49cc-ab63-a87acc3dc1b2"
   },
   "outputs": [
    {
     "data": {
      "text/html": [
       "<div>\n",
       "<style scoped>\n",
       "    .dataframe tbody tr th:only-of-type {\n",
       "        vertical-align: middle;\n",
       "    }\n",
       "\n",
       "    .dataframe tbody tr th {\n",
       "        vertical-align: top;\n",
       "    }\n",
       "\n",
       "    .dataframe thead th {\n",
       "        text-align: right;\n",
       "    }\n",
       "</style>\n",
       "<table border=\"1\" class=\"dataframe\">\n",
       "  <thead>\n",
       "    <tr style=\"text-align: right;\">\n",
       "      <th></th>\n",
       "      <th>season</th>\n",
       "      <th>holiday</th>\n",
       "      <th>workingday</th>\n",
       "      <th>weather</th>\n",
       "      <th>year</th>\n",
       "      <th>month</th>\n",
       "      <th>day</th>\n",
       "      <th>dayofweek</th>\n",
       "      <th>hour</th>\n",
       "      <th>component_0</th>\n",
       "      <th>component_1</th>\n",
       "      <th>component_2</th>\n",
       "    </tr>\n",
       "  </thead>\n",
       "  <tbody>\n",
       "    <tr>\n",
       "      <th>0</th>\n",
       "      <td>1</td>\n",
       "      <td>0</td>\n",
       "      <td>1</td>\n",
       "      <td>1</td>\n",
       "      <td>2011</td>\n",
       "      <td>1</td>\n",
       "      <td>20</td>\n",
       "      <td>3</td>\n",
       "      <td>0</td>\n",
       "      <td>-1.920363</td>\n",
       "      <td>1.412416</td>\n",
       "      <td>0.791086</td>\n",
       "    </tr>\n",
       "    <tr>\n",
       "      <th>1</th>\n",
       "      <td>1</td>\n",
       "      <td>0</td>\n",
       "      <td>1</td>\n",
       "      <td>1</td>\n",
       "      <td>2011</td>\n",
       "      <td>1</td>\n",
       "      <td>20</td>\n",
       "      <td>3</td>\n",
       "      <td>1</td>\n",
       "      <td>-1.629284</td>\n",
       "      <td>-0.856109</td>\n",
       "      <td>-1.439095</td>\n",
       "    </tr>\n",
       "    <tr>\n",
       "      <th>2</th>\n",
       "      <td>1</td>\n",
       "      <td>0</td>\n",
       "      <td>1</td>\n",
       "      <td>1</td>\n",
       "      <td>2011</td>\n",
       "      <td>1</td>\n",
       "      <td>20</td>\n",
       "      <td>3</td>\n",
       "      <td>2</td>\n",
       "      <td>-1.629284</td>\n",
       "      <td>-0.856109</td>\n",
       "      <td>-1.439095</td>\n",
       "    </tr>\n",
       "    <tr>\n",
       "      <th>3</th>\n",
       "      <td>1</td>\n",
       "      <td>0</td>\n",
       "      <td>1</td>\n",
       "      <td>1</td>\n",
       "      <td>2011</td>\n",
       "      <td>1</td>\n",
       "      <td>20</td>\n",
       "      <td>3</td>\n",
       "      <td>3</td>\n",
       "      <td>-1.735344</td>\n",
       "      <td>0.102855</td>\n",
       "      <td>-0.494568</td>\n",
       "    </tr>\n",
       "    <tr>\n",
       "      <th>4</th>\n",
       "      <td>1</td>\n",
       "      <td>0</td>\n",
       "      <td>1</td>\n",
       "      <td>1</td>\n",
       "      <td>2011</td>\n",
       "      <td>1</td>\n",
       "      <td>20</td>\n",
       "      <td>3</td>\n",
       "      <td>4</td>\n",
       "      <td>-1.735344</td>\n",
       "      <td>0.102855</td>\n",
       "      <td>-0.494568</td>\n",
       "    </tr>\n",
       "  </tbody>\n",
       "</table>\n",
       "</div>"
      ],
      "text/plain": [
       "   season  holiday  workingday  ...  component_0  component_1  component_2\n",
       "0       1        0           1  ...    -1.920363     1.412416     0.791086\n",
       "1       1        0           1  ...    -1.629284    -0.856109    -1.439095\n",
       "2       1        0           1  ...    -1.629284    -0.856109    -1.439095\n",
       "3       1        0           1  ...    -1.735344     0.102855    -0.494568\n",
       "4       1        0           1  ...    -1.735344     0.102855    -0.494568\n",
       "\n",
       "[5 rows x 12 columns]"
      ]
     },
     "execution_count": 95,
     "metadata": {
      "tags": []
     },
     "output_type": "execute_result"
    }
   ],
   "source": [
    "test_X =  df_org_test.iloc[:,1:] # Exclude datetime for prediction\n",
    "test_X.head()"
   ]
  },
  {
   "cell_type": "code",
   "execution_count": 96,
   "metadata": {
    "colab": {
     "base_uri": "https://localhost:8080/",
     "height": 68
    },
    "colab_type": "code",
    "executionInfo": {
     "elapsed": 729,
     "status": "ok",
     "timestamp": 1591154362143,
     "user": {
      "displayName": "Robins Yadav",
      "photoUrl": "",
      "userId": "09341548175987336254"
     },
     "user_tz": 420
    },
    "id": "Isg_TOM6Kqtu",
    "outputId": "fd03e4b4-feed-4fbe-f8c5-76295c5c3f11"
   },
   "outputs": [
    {
     "name": "stdout",
     "output_type": "stream",
     "text": [
      "[2.3985543 1.8671589 1.5779941 1.1289694 1.0596006]\n"
     ]
    },
    {
     "data": {
      "text/plain": [
       "array([ 10.007252 ,   5.4698887,   3.845227 , ..., 127.491234 ,\n",
       "       100.23529  ,  57.143932 ], dtype=float32)"
      ]
     },
     "execution_count": 96,
     "metadata": {
      "tags": []
     },
     "output_type": "execute_result"
    }
   ],
   "source": [
    "## Prediction original test data\n",
    "result = regressor.predict(test_X)\n",
    "print(result[:5])\n",
    "\n",
    "## Inverse the log transformation\n",
    "np.expm1(result)"
   ]
  },
  {
   "cell_type": "code",
   "execution_count": 97,
   "metadata": {
    "colab": {
     "base_uri": "https://localhost:8080/",
     "height": 224
    },
    "colab_type": "code",
    "executionInfo": {
     "elapsed": 840,
     "status": "ok",
     "timestamp": 1591154375241,
     "user": {
      "displayName": "Robins Yadav",
      "photoUrl": "",
      "userId": "09341548175987336254"
     },
     "user_tz": 420
    },
    "id": "3f5ChXsgMMM-",
    "outputId": "28ececc1-a5a1-4c73-b4ac-6a74e9ebd11f"
   },
   "outputs": [
    {
     "data": {
      "text/html": [
       "<div>\n",
       "<style scoped>\n",
       "    .dataframe tbody tr th:only-of-type {\n",
       "        vertical-align: middle;\n",
       "    }\n",
       "\n",
       "    .dataframe tbody tr th {\n",
       "        vertical-align: top;\n",
       "    }\n",
       "\n",
       "    .dataframe thead th {\n",
       "        text-align: right;\n",
       "    }\n",
       "</style>\n",
       "<table border=\"1\" class=\"dataframe\">\n",
       "  <thead>\n",
       "    <tr style=\"text-align: right;\">\n",
       "      <th></th>\n",
       "      <th>datetime</th>\n",
       "      <th>season</th>\n",
       "      <th>holiday</th>\n",
       "      <th>workingday</th>\n",
       "      <th>weather</th>\n",
       "      <th>year</th>\n",
       "      <th>month</th>\n",
       "      <th>day</th>\n",
       "      <th>dayofweek</th>\n",
       "      <th>hour</th>\n",
       "      <th>component_0</th>\n",
       "      <th>component_1</th>\n",
       "      <th>component_2</th>\n",
       "      <th>count</th>\n",
       "    </tr>\n",
       "  </thead>\n",
       "  <tbody>\n",
       "    <tr>\n",
       "      <th>0</th>\n",
       "      <td>0</td>\n",
       "      <td>1</td>\n",
       "      <td>0</td>\n",
       "      <td>1</td>\n",
       "      <td>1</td>\n",
       "      <td>2011</td>\n",
       "      <td>1</td>\n",
       "      <td>20</td>\n",
       "      <td>3</td>\n",
       "      <td>0</td>\n",
       "      <td>-1.920363</td>\n",
       "      <td>1.412416</td>\n",
       "      <td>0.791086</td>\n",
       "      <td>10.007252</td>\n",
       "    </tr>\n",
       "    <tr>\n",
       "      <th>1</th>\n",
       "      <td>1</td>\n",
       "      <td>1</td>\n",
       "      <td>0</td>\n",
       "      <td>1</td>\n",
       "      <td>1</td>\n",
       "      <td>2011</td>\n",
       "      <td>1</td>\n",
       "      <td>20</td>\n",
       "      <td>3</td>\n",
       "      <td>1</td>\n",
       "      <td>-1.629284</td>\n",
       "      <td>-0.856109</td>\n",
       "      <td>-1.439095</td>\n",
       "      <td>5.469889</td>\n",
       "    </tr>\n",
       "    <tr>\n",
       "      <th>2</th>\n",
       "      <td>2</td>\n",
       "      <td>1</td>\n",
       "      <td>0</td>\n",
       "      <td>1</td>\n",
       "      <td>1</td>\n",
       "      <td>2011</td>\n",
       "      <td>1</td>\n",
       "      <td>20</td>\n",
       "      <td>3</td>\n",
       "      <td>2</td>\n",
       "      <td>-1.629284</td>\n",
       "      <td>-0.856109</td>\n",
       "      <td>-1.439095</td>\n",
       "      <td>3.845227</td>\n",
       "    </tr>\n",
       "    <tr>\n",
       "      <th>3</th>\n",
       "      <td>3</td>\n",
       "      <td>1</td>\n",
       "      <td>0</td>\n",
       "      <td>1</td>\n",
       "      <td>1</td>\n",
       "      <td>2011</td>\n",
       "      <td>1</td>\n",
       "      <td>20</td>\n",
       "      <td>3</td>\n",
       "      <td>3</td>\n",
       "      <td>-1.735344</td>\n",
       "      <td>0.102855</td>\n",
       "      <td>-0.494568</td>\n",
       "      <td>2.092468</td>\n",
       "    </tr>\n",
       "    <tr>\n",
       "      <th>4</th>\n",
       "      <td>4</td>\n",
       "      <td>1</td>\n",
       "      <td>0</td>\n",
       "      <td>1</td>\n",
       "      <td>1</td>\n",
       "      <td>2011</td>\n",
       "      <td>1</td>\n",
       "      <td>20</td>\n",
       "      <td>3</td>\n",
       "      <td>4</td>\n",
       "      <td>-1.735344</td>\n",
       "      <td>0.102855</td>\n",
       "      <td>-0.494568</td>\n",
       "      <td>1.885218</td>\n",
       "    </tr>\n",
       "  </tbody>\n",
       "</table>\n",
       "</div>"
      ],
      "text/plain": [
       "  datetime  season  holiday  ...  component_1  component_2      count\n",
       "0        0       1        0  ...     1.412416     0.791086  10.007252\n",
       "1        1       1        0  ...    -0.856109    -1.439095   5.469889\n",
       "2        2       1        0  ...    -0.856109    -1.439095   3.845227\n",
       "3        3       1        0  ...     0.102855    -0.494568   2.092468\n",
       "4        4       1        0  ...     0.102855    -0.494568   1.885218\n",
       "\n",
       "[5 rows x 14 columns]"
      ]
     },
     "execution_count": 97,
     "metadata": {
      "tags": []
     },
     "output_type": "execute_result"
    }
   ],
   "source": [
    "# Convert result to actual count\n",
    "df_org_test[\"count\"] = np.expm1(result)\n",
    "df_org_test.head()"
   ]
  },
  {
   "cell_type": "code",
   "execution_count": 98,
   "metadata": {
    "colab": {
     "base_uri": "https://localhost:8080/",
     "height": 69
    },
    "colab_type": "code",
    "executionInfo": {
     "elapsed": 679,
     "status": "ok",
     "timestamp": 1591154388969,
     "user": {
      "displayName": "Robins Yadav",
      "photoUrl": "",
      "userId": "09341548175987336254"
     },
     "user_tz": 420
    },
    "id": "hgo3_dypMPZA",
    "outputId": "7bd0e086-5a56-460d-fe9e-35d258e236a5"
   },
   "outputs": [
    {
     "data": {
      "text/html": [
       "<div>\n",
       "<style scoped>\n",
       "    .dataframe tbody tr th:only-of-type {\n",
       "        vertical-align: middle;\n",
       "    }\n",
       "\n",
       "    .dataframe tbody tr th {\n",
       "        vertical-align: top;\n",
       "    }\n",
       "\n",
       "    .dataframe thead th {\n",
       "        text-align: right;\n",
       "    }\n",
       "</style>\n",
       "<table border=\"1\" class=\"dataframe\">\n",
       "  <thead>\n",
       "    <tr style=\"text-align: right;\">\n",
       "      <th></th>\n",
       "      <th>datetime</th>\n",
       "      <th>season</th>\n",
       "      <th>holiday</th>\n",
       "      <th>workingday</th>\n",
       "      <th>weather</th>\n",
       "      <th>year</th>\n",
       "      <th>month</th>\n",
       "      <th>day</th>\n",
       "      <th>dayofweek</th>\n",
       "      <th>hour</th>\n",
       "      <th>component_0</th>\n",
       "      <th>component_1</th>\n",
       "      <th>component_2</th>\n",
       "      <th>count</th>\n",
       "    </tr>\n",
       "  </thead>\n",
       "  <tbody>\n",
       "  </tbody>\n",
       "</table>\n",
       "</div>"
      ],
      "text/plain": [
       "Empty DataFrame\n",
       "Columns: [datetime, season, holiday, workingday, weather, year, month, day, dayofweek, hour, component_0, component_1, component_2, count]\n",
       "Index: []"
      ]
     },
     "execution_count": 98,
     "metadata": {
      "tags": []
     },
     "output_type": "execute_result"
    }
   ],
   "source": [
    "\n",
    "## check if count is less than 0-- which is not possible in real life\n",
    "df_org_test[df_org_test[\"count\"] < 0]"
   ]
  },
  {
   "cell_type": "code",
   "execution_count": 0,
   "metadata": {
    "colab": {},
    "colab_type": "code",
    "id": "tAbbEG7mMSx8"
   },
   "outputs": [],
   "source": [
    "df_org_test[['datetime','count']].to_csv('predicted_count_pca.csv',index=False)"
   ]
  },
  {
   "cell_type": "code",
   "execution_count": 100,
   "metadata": {
    "colab": {
     "base_uri": "https://localhost:8080/",
     "height": 204
    },
    "colab_type": "code",
    "executionInfo": {
     "elapsed": 636,
     "status": "ok",
     "timestamp": 1591154431789,
     "user": {
      "displayName": "Robins Yadav",
      "photoUrl": "",
      "userId": "09341548175987336254"
     },
     "user_tz": 420
    },
    "id": "N_pubj3_MZWK",
    "outputId": "ad499ae9-12d8-487c-faf0-3b3caecd3d02"
   },
   "outputs": [
    {
     "data": {
      "text/html": [
       "<div>\n",
       "<style scoped>\n",
       "    .dataframe tbody tr th:only-of-type {\n",
       "        vertical-align: middle;\n",
       "    }\n",
       "\n",
       "    .dataframe tbody tr th {\n",
       "        vertical-align: top;\n",
       "    }\n",
       "\n",
       "    .dataframe thead th {\n",
       "        text-align: right;\n",
       "    }\n",
       "</style>\n",
       "<table border=\"1\" class=\"dataframe\">\n",
       "  <thead>\n",
       "    <tr style=\"text-align: right;\">\n",
       "      <th></th>\n",
       "      <th>datetime</th>\n",
       "      <th>count</th>\n",
       "    </tr>\n",
       "  </thead>\n",
       "  <tbody>\n",
       "    <tr>\n",
       "      <th>0</th>\n",
       "      <td>0</td>\n",
       "      <td>10.007252</td>\n",
       "    </tr>\n",
       "    <tr>\n",
       "      <th>1</th>\n",
       "      <td>1</td>\n",
       "      <td>5.469889</td>\n",
       "    </tr>\n",
       "    <tr>\n",
       "      <th>2</th>\n",
       "      <td>2</td>\n",
       "      <td>3.845227</td>\n",
       "    </tr>\n",
       "    <tr>\n",
       "      <th>3</th>\n",
       "      <td>3</td>\n",
       "      <td>2.092468</td>\n",
       "    </tr>\n",
       "    <tr>\n",
       "      <th>4</th>\n",
       "      <td>4</td>\n",
       "      <td>1.885218</td>\n",
       "    </tr>\n",
       "  </tbody>\n",
       "</table>\n",
       "</div>"
      ],
      "text/plain": [
       "   datetime      count\n",
       "0         0  10.007252\n",
       "1         1   5.469889\n",
       "2         2   3.845227\n",
       "3         3   2.092468\n",
       "4         4   1.885218"
      ]
     },
     "execution_count": 100,
     "metadata": {
      "tags": []
     },
     "output_type": "execute_result"
    }
   ],
   "source": [
    "\n",
    "sub = pd.read_csv(\"predicted_count_pca.csv\")\n",
    "sub.head()"
   ]
  },
  {
   "cell_type": "code",
   "execution_count": 0,
   "metadata": {
    "colab": {},
    "colab_type": "code",
    "id": "u86180h5MdPH"
   },
   "outputs": [],
   "source": []
  }
 ],
 "metadata": {
  "colab": {
   "authorship_tag": "ABX9TyO9YR/SLZWTnc7YCNkQwrR8",
   "collapsed_sections": [],
   "name": "bikerental_PCA_XGBoost_localmode.ipynb",
   "provenance": []
  },
  "kernelspec": {
   "display_name": "conda_python3",
   "language": "python",
   "name": "conda_python3"
  },
  "language_info": {
   "codemirror_mode": {
    "name": "ipython",
    "version": 3
   },
   "file_extension": ".py",
   "mimetype": "text/x-python",
   "name": "python",
   "nbconvert_exporter": "python",
   "pygments_lexer": "ipython3",
   "version": "3.6.5"
  }
 },
 "nbformat": 4,
 "nbformat_minor": 1
}
